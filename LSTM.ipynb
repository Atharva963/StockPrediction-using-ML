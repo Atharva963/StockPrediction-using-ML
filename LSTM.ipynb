{
 "cells": [
  {
   "cell_type": "code",
   "execution_count": 1,
   "id": "ff362c21-2870-453d-9d11-3a0761ab66f7",
   "metadata": {},
   "outputs": [],
   "source": [
    "import numpy as np\n",
    "import pandas as pd\n",
    "import matplotlib.pyplot as plt\n",
    "from sklearn.preprocessing import MinMaxScaler\n",
    "from keras.models import Sequential\n",
    "from keras.layers import Dense,LSTM,Dropout"
   ]
  },
  {
   "cell_type": "code",
   "execution_count": 6,
   "id": "2222636c-6b48-4008-b867-1a6a769e4556",
   "metadata": {},
   "outputs": [
    {
     "name": "stdout",
     "output_type": "stream",
     "text": [
      "<class 'pandas.core.frame.DataFrame'>\n",
      "RangeIndex: 4463 entries, 0 to 4462\n",
      "Data columns (total 8 columns):\n",
      " #   Column        Non-Null Count  Dtype  \n",
      "---  ------        --------------  -----  \n",
      " 0   Date          4463 non-null   object \n",
      " 1   Open          4463 non-null   float64\n",
      " 2   High          4463 non-null   float64\n",
      " 3   Low           4463 non-null   float64\n",
      " 4   Close         4463 non-null   float64\n",
      " 5   Volume        4463 non-null   int64  \n",
      " 6   Dividends     4463 non-null   float64\n",
      " 7   Stock Splits  4463 non-null   float64\n",
      "dtypes: float64(6), int64(1), object(1)\n",
      "memory usage: 279.1+ KB\n"
     ]
    }
   ],
   "source": [
    "data = pd.read_csv('TCS_stock_history.csv')\n",
    "data.info()"
   ]
  },
  {
   "cell_type": "code",
   "execution_count": 7,
   "id": "d06e409b-995b-465f-9964-a812b90540e8",
   "metadata": {},
   "outputs": [
    {
     "data": {
      "text/html": [
       "<div>\n",
       "<style scoped>\n",
       "    .dataframe tbody tr th:only-of-type {\n",
       "        vertical-align: middle;\n",
       "    }\n",
       "\n",
       "    .dataframe tbody tr th {\n",
       "        vertical-align: top;\n",
       "    }\n",
       "\n",
       "    .dataframe thead th {\n",
       "        text-align: right;\n",
       "    }\n",
       "</style>\n",
       "<table border=\"1\" class=\"dataframe\">\n",
       "  <thead>\n",
       "    <tr style=\"text-align: right;\">\n",
       "      <th></th>\n",
       "      <th>Date</th>\n",
       "      <th>Open</th>\n",
       "      <th>High</th>\n",
       "      <th>Low</th>\n",
       "      <th>Close</th>\n",
       "      <th>Volume</th>\n",
       "      <th>Dividends</th>\n",
       "      <th>Stock Splits</th>\n",
       "    </tr>\n",
       "  </thead>\n",
       "  <tbody>\n",
       "    <tr>\n",
       "      <th>0</th>\n",
       "      <td>2002-08-12</td>\n",
       "      <td>28.794172</td>\n",
       "      <td>29.742206</td>\n",
       "      <td>28.794172</td>\n",
       "      <td>29.519140</td>\n",
       "      <td>212976</td>\n",
       "      <td>0.0</td>\n",
       "      <td>0.0</td>\n",
       "    </tr>\n",
       "    <tr>\n",
       "      <th>1</th>\n",
       "      <td>2002-08-13</td>\n",
       "      <td>29.556316</td>\n",
       "      <td>30.030333</td>\n",
       "      <td>28.905705</td>\n",
       "      <td>29.119476</td>\n",
       "      <td>153576</td>\n",
       "      <td>0.0</td>\n",
       "      <td>0.0</td>\n",
       "    </tr>\n",
       "    <tr>\n",
       "      <th>2</th>\n",
       "      <td>2002-08-14</td>\n",
       "      <td>29.184536</td>\n",
       "      <td>29.184536</td>\n",
       "      <td>26.563503</td>\n",
       "      <td>27.111877</td>\n",
       "      <td>822776</td>\n",
       "      <td>0.0</td>\n",
       "      <td>0.0</td>\n",
       "    </tr>\n",
       "    <tr>\n",
       "      <th>3</th>\n",
       "      <td>2002-08-15</td>\n",
       "      <td>27.111877</td>\n",
       "      <td>27.111877</td>\n",
       "      <td>27.111877</td>\n",
       "      <td>27.111877</td>\n",
       "      <td>0</td>\n",
       "      <td>0.0</td>\n",
       "      <td>0.0</td>\n",
       "    </tr>\n",
       "    <tr>\n",
       "      <th>4</th>\n",
       "      <td>2002-08-16</td>\n",
       "      <td>26.972458</td>\n",
       "      <td>28.255089</td>\n",
       "      <td>26.582090</td>\n",
       "      <td>27.046812</td>\n",
       "      <td>811856</td>\n",
       "      <td>0.0</td>\n",
       "      <td>0.0</td>\n",
       "    </tr>\n",
       "  </tbody>\n",
       "</table>\n",
       "</div>"
      ],
      "text/plain": [
       "         Date       Open       High        Low      Close  Volume  Dividends  \\\n",
       "0  2002-08-12  28.794172  29.742206  28.794172  29.519140  212976        0.0   \n",
       "1  2002-08-13  29.556316  30.030333  28.905705  29.119476  153576        0.0   \n",
       "2  2002-08-14  29.184536  29.184536  26.563503  27.111877  822776        0.0   \n",
       "3  2002-08-15  27.111877  27.111877  27.111877  27.111877       0        0.0   \n",
       "4  2002-08-16  26.972458  28.255089  26.582090  27.046812  811856        0.0   \n",
       "\n",
       "   Stock Splits  \n",
       "0           0.0  \n",
       "1           0.0  \n",
       "2           0.0  \n",
       "3           0.0  \n",
       "4           0.0  "
      ]
     },
     "execution_count": 7,
     "metadata": {},
     "output_type": "execute_result"
    }
   ],
   "source": [
    "data.head()"
   ]
  },
  {
   "cell_type": "code",
   "execution_count": 8,
   "id": "b5bb9af7-7a4d-48ea-af94-3d1e58a44f7b",
   "metadata": {},
   "outputs": [],
   "source": [
    "data[\"Close\"]=pd.to_numeric(data.Close,errors='coerce')\n",
    "data = data.dropna()\n",
    "trainData = data.iloc[:,4:5].values"
   ]
  },
  {
   "cell_type": "code",
   "execution_count": 9,
   "id": "7d6f1ce6-9c98-4b45-92c8-79ae694c9ca8",
   "metadata": {},
   "outputs": [
    {
     "name": "stdout",
     "output_type": "stream",
     "text": [
      "<class 'pandas.core.frame.DataFrame'>\n",
      "RangeIndex: 4463 entries, 0 to 4462\n",
      "Data columns (total 8 columns):\n",
      " #   Column        Non-Null Count  Dtype  \n",
      "---  ------        --------------  -----  \n",
      " 0   Date          4463 non-null   object \n",
      " 1   Open          4463 non-null   float64\n",
      " 2   High          4463 non-null   float64\n",
      " 3   Low           4463 non-null   float64\n",
      " 4   Close         4463 non-null   float64\n",
      " 5   Volume        4463 non-null   int64  \n",
      " 6   Dividends     4463 non-null   float64\n",
      " 7   Stock Splits  4463 non-null   float64\n",
      "dtypes: float64(6), int64(1), object(1)\n",
      "memory usage: 279.1+ KB\n"
     ]
    }
   ],
   "source": [
    "data.info()"
   ]
  },
  {
   "cell_type": "code",
   "execution_count": 10,
   "id": "04094f1d-da9c-451b-837b-b85f57b6935c",
   "metadata": {},
   "outputs": [
    {
     "data": {
      "text/plain": [
       "(4463, 1)"
      ]
     },
     "execution_count": 10,
     "metadata": {},
     "output_type": "execute_result"
    }
   ],
   "source": [
    "sc = MinMaxScaler(feature_range=(0,1))\n",
    "trainData = sc.fit_transform(trainData)\n",
    "trainData.shape"
   ]
  },
  {
   "cell_type": "code",
   "execution_count": 11,
   "id": "30bb570b-9bf6-48b5-9db6-ce4462552896",
   "metadata": {},
   "outputs": [],
   "source": [
    "#Preparing Data For Training \n",
    "X_train = []\n",
    "y_train = []\n",
    "\n",
    "for i in range (60,1149): #60 : timestamp // 1149: length of data\n",
    "    X_train.append(trainData[i-60:i,0])\n",
    "    y_train.append(trainData[i,0])\n",
    "\n",
    "X_train,y_train = np.array(X_train),np.array(y_train)"
   ]
  },
  {
   "cell_type": "code",
   "execution_count": 12,
   "id": "50fde998-dbad-49a8-87aa-78da9b541aec",
   "metadata": {},
   "outputs": [
    {
     "data": {
      "text/plain": [
       "(1089, 60, 1)"
      ]
     },
     "execution_count": 12,
     "metadata": {},
     "output_type": "execute_result"
    }
   ],
   "source": [
    "X_train = np.reshape(X_train,(X_train.shape[0],X_train.shape[1],1))#adding batch size axis\n",
    "X_train.shape"
   ]
  },
  {
   "cell_type": "code",
   "execution_count": 13,
   "id": "42d96da9-ef6d-4252-9952-97b32dc257e0",
   "metadata": {},
   "outputs": [],
   "source": [
    "model = Sequential()\n",
    "\n",
    "model.add(LSTM(units=100, return_sequences = True, input_shape = (X_train.shape[1],1)))\n",
    "model.add(Dropout(0.2))\n",
    "\n",
    "model.add(LSTM(units=100, return_sequences = True))\n",
    "model.add(Dropout(0.2))\n",
    "\n",
    "model.add(LSTM(units=100, return_sequences = True))\n",
    "model.add(Dropout(0.2))\n",
    "\n",
    "model.add(LSTM(units=100, return_sequences = True))\n",
    "model.add(Dropout(0.2))\n",
    "\n",
    "model.add(Dense(units=1))\n",
    "model.compile(optimizer='adam',loss=\"mean_squared_error\")"
   ]
  },
  {
   "cell_type": "code",
   "execution_count": 14,
   "id": "ce7c51fb-3efd-4bc7-b7f9-d023754c79c3",
   "metadata": {},
   "outputs": [
    {
     "name": "stdout",
     "output_type": "stream",
     "text": [
      "Epoch 1/20\n",
      "35/35 - 21s - loss: 3.3636e-04 - 21s/epoch - 607ms/step\n",
      "Epoch 2/20\n",
      "35/35 - 7s - loss: 2.4889e-04 - 7s/epoch - 206ms/step\n",
      "Epoch 3/20\n",
      "35/35 - 5s - loss: 2.4452e-04 - 5s/epoch - 147ms/step\n",
      "Epoch 4/20\n",
      "35/35 - 6s - loss: 2.5251e-04 - 6s/epoch - 177ms/step\n",
      "Epoch 5/20\n",
      "35/35 - 6s - loss: 2.5336e-04 - 6s/epoch - 168ms/step\n",
      "Epoch 6/20\n",
      "35/35 - 5s - loss: 2.6111e-04 - 5s/epoch - 156ms/step\n",
      "Epoch 7/20\n",
      "35/35 - 7s - loss: 2.4545e-04 - 7s/epoch - 211ms/step\n",
      "Epoch 8/20\n",
      "35/35 - 6s - loss: 2.4616e-04 - 6s/epoch - 176ms/step\n",
      "Epoch 9/20\n",
      "35/35 - 7s - loss: 2.4101e-04 - 7s/epoch - 189ms/step\n",
      "Epoch 10/20\n",
      "35/35 - 7s - loss: 2.4763e-04 - 7s/epoch - 186ms/step\n",
      "Epoch 11/20\n",
      "35/35 - 5s - loss: 2.5145e-04 - 5s/epoch - 130ms/step\n",
      "Epoch 12/20\n",
      "35/35 - 7s - loss: 2.5374e-04 - 7s/epoch - 203ms/step\n",
      "Epoch 13/20\n",
      "35/35 - 5s - loss: 2.5355e-04 - 5s/epoch - 155ms/step\n",
      "Epoch 14/20\n",
      "35/35 - 7s - loss: 2.4471e-04 - 7s/epoch - 186ms/step\n",
      "Epoch 15/20\n",
      "35/35 - 7s - loss: 2.4480e-04 - 7s/epoch - 188ms/step\n",
      "Epoch 16/20\n",
      "35/35 - 5s - loss: 2.4840e-04 - 5s/epoch - 139ms/step\n",
      "Epoch 17/20\n",
      "35/35 - 4s - loss: 2.5312e-04 - 4s/epoch - 127ms/step\n",
      "Epoch 18/20\n",
      "35/35 - 4s - loss: 2.4359e-04 - 4s/epoch - 124ms/step\n",
      "Epoch 19/20\n",
      "35/35 - 4s - loss: 2.4504e-04 - 4s/epoch - 128ms/step\n",
      "Epoch 20/20\n",
      "35/35 - 4s - loss: 2.4014e-04 - 4s/epoch - 126ms/step\n"
     ]
    }
   ],
   "source": [
    "hist = model.fit(X_train, y_train , epochs = 20, batch_size = 32, verbose=2)"
   ]
  },
  {
   "cell_type": "code",
   "execution_count": 15,
   "id": "27268a1b-dd02-4f11-9196-5d206684b4c6",
   "metadata": {},
   "outputs": [
    {
     "data": {
      "image/png": "[encoded data removed]",
      "text/plain": [
       "<Figure size 640x480 with 1 Axes>"
      ]
     },
     "metadata": {},
     "output_type": "display_data"
    }
   ],
   "source": [
    "plt.plot(hist.history['loss'])\n",
    "plt.title('Training model loss')\n",
    "plt.ylabel('loss')\n",
    "plt.xlabel('epoch')\n",
    "plt.legend(['train'], loc='upper left')\n",
    "plt.show()"
   ]
  },
  {
   "cell_type": "code",
   "execution_count": 34,
   "id": "6436822a-47d5-4a9b-9f87-b1e3bcb0cf69",
   "metadata": {},
   "outputs": [
    {
     "data": {
      "text/plain": [
       "(192, 60, 1)"
      ]
     },
     "execution_count": 34,
     "metadata": {},
     "output_type": "execute_result"
    }
   ],
   "source": [
    "testData = pd.read_csv('Google_test_data.csv')\n",
    "testData[\"Close\"]=pd.to_numeric(testData.Close,errors='coerce')\n",
    "testData = testData.dropna()\n",
    "testData = testData.iloc[:,4:5]\n",
    "y_test = testData.iloc[60:,0:].values\n",
    "#input array for model\n",
    "inputClosing = testData.iloc[:,0:].values\n",
    "inputClosing_scaled = sc.transform(inputClosing)\n",
    "inputClosing_scaled.shape\n",
    "X_test=[]\n",
    "length = len(testData)\n",
    "timestep = 60\n",
    "for i  in range(timestep,length):\n",
    "    X_test.append(inputClosing_scaled[i-timestep:i,0])\n",
    "X_test = np.array(X_test)\n",
    "X_test = np.reshape(X_test,(X_test.shape[0],X_test.shape[1],1))\n",
    "X_test.shape"
   ]
  },
  {
   "cell_type": "code",
   "execution_count": 49,
   "id": "b76a817e-3d2f-4785-bb86-d274ca17b1cd",
   "metadata": {},
   "outputs": [
    {
     "name": "stdout",
     "output_type": "stream",
     "text": [
      "6/6 [==============================] - 0s 36ms/step\n"
     ]
    }
   ],
   "source": [
    "y_pred = model.predict(X_test)\n",
    "y_pred = np.array(X_test)"
   ]
  },
  {
   "cell_type": "code",
   "execution_count": 50,
   "id": "e67c0a23-8cb6-4c6f-bf76-a9ec0b89d05a",
   "metadata": {},
   "outputs": [],
   "source": [
    "# predicted_price = sc.inverse_transform(y_pred)\n",
    "predicted_price = sc.inverse_transform(y_pred.reshape(-1, 1))"
   ]
  },
  {
   "cell_type": "code",
   "execution_count": 48,
   "id": "bfe5f992-c7ee-4880-b501-838ba001c09c",
   "metadata": {},
   "outputs": [
    {
     "data": {
      "image/png": "[encoded data removed]",
      "text/plain": [
       "<Figure size 640x480 with 1 Axes>"
      ]
     },
     "metadata": {},
     "output_type": "display_data"
    }
   ],
   "source": [
    "plt.plot(y_test,color='red',label='Actual Stock Price')\n",
    "plt.plot(predicted_price, color='green',label='Predicted Stock Price')\n",
    "plt.title('TCS stock price prediction')\n",
    "plt.xlabel('Time')\n",
    "plt.ylabel('Stock Price')\n",
    "plt.legend()\n",
    "plt.show()"
   ]
  },
  {
   "cell_type": "code",
   "execution_count": null,
   "id": "ed29faff-90b5-4a1a-83ed-ca50b325553c",
   "metadata": {},
   "outputs": [],
   "source": []
  }
 ],
 "metadata": {
  "kernelspec": {
   "display_name": "Python 3 (ipykernel)",
   "language": "python",
   "name": "python3"
  },
  "language_info": {
   "codemirror_mode": {
    "name": "ipython",
    "version": 3
   },
   "file_extension": ".py",
   "mimetype": "text/x-python",
   "name": "python",
   "nbconvert_exporter": "python",
   "pygments_lexer": "ipython3",
   "version": "3.11.1"
  }
 },
 "nbformat": 4,
 "nbformat_minor": 5
}
