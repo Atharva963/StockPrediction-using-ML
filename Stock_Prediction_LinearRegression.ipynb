{
 "cells": [
  {
   "cell_type": "code",
   "execution_count": 21,
   "id": "effb2a73-8a0d-463d-890f-634fdaed4fd3",
   "metadata": {},
   "outputs": [
    {
     "name": "stderr",
     "output_type": "stream",
     "text": [
      "ERROR: Could not find a version that satisfies the requirement train_test_spilt (from versions: none)\n",
      "ERROR: No matching distribution found for train_test_spilt\n",
      "\n",
      "[notice] A new release of pip is available: 23.2.1 -> 23.3\n",
      "[notice] To update, run: python.exe -m pip install --upgrade pip\n"
     ]
    }
   ],
   "source": [
    "\n",
    "# Pending Installations \n",
    "!pip install scikit le\n"
   ]
  },
  {
   "cell_type": "code",
   "execution_count": 47,
   "id": "a97cff91-50c4-45bf-8611-e82ac767458d",
   "metadata": {},
   "outputs": [
    {
     "data": {
      "text/html": [
       "        <script type=\"text/javascript\">\n",
       "        window.PlotlyConfig = {MathJaxConfig: 'local'};\n",
       "        if (window.MathJax && window.MathJax.Hub && window.MathJax.Hub.Config) {window.MathJax.Hub.Config({SVG: {font: \"STIX-Web\"}});}\n",
       "        if (typeof require !== 'undefined') {\n",
       "        require.undef(\"plotly\");\n",
       "        requirejs.config({\n",
       "            paths: {\n",
       "                'plotly': ['https://cdn.plot.ly/plotly-2.25.2.min']\n",
       "            }\n",
       "        });\n",
       "        require(['plotly'], function(Plotly) {\n",
       "            window._Plotly = Plotly;\n",
       "        });\n",
       "        }\n",
       "        </script>\n",
       "        "
      ]
     },
     "metadata": {},
     "output_type": "display_data"
    }
   ],
   "source": [
    "import numpy as np\n",
    "import yfinance as yf\n",
    "import pandas as pd\n",
    "import seaborn as sns\n",
    "import matplotlib.pyplot as plt\n",
    "import pandas_datareader as data\n",
    "%matplotlib inline\n",
    "\n",
    "import chart_studio.plotly as py\n",
    "import plotly.graph_objs as go\n",
    "from plotly.offline import plot\n",
    "\n",
    "from plotly.offline import download_plotlyjs, init_notebook_mode,plot,iplot\n",
    "init_notebook_mode(connected=True)"
   ]
  },
  {
   "cell_type": "code",
   "execution_count": 48,
   "id": "ee2aaac7-52e9-4cdb-bc96-f6d0286c20af",
   "metadata": {},
   "outputs": [],
   "source": [
    "#it means the output of plotting commands is displayed inline .\n",
    "%matplotlib inline"
   ]
  },
  {
   "cell_type": "code",
   "execution_count": 110,
   "id": "778efd39-73bd-4689-b83a-4cb37de88af6",
   "metadata": {},
   "outputs": [
    {
     "name": "stdout",
     "output_type": "stream",
     "text": [
      "[*********************100%%**********************]  1 of 1 completed\n",
      "<module 'pandas_datareader' from 'C:\\\\Users\\\\athar\\\\AppData\\\\Local\\\\Programs\\\\Python\\\\Python311\\\\Lib\\\\site-packages\\\\pandas_datareader\\\\__init__.py'>\n"
     ]
    },
    {
     "data": {
      "text/html": [
       "<div>\n",
       "<style scoped>\n",
       "    .dataframe tbody tr th:only-of-type {\n",
       "        vertical-align: middle;\n",
       "    }\n",
       "\n",
       "    .dataframe tbody tr th {\n",
       "        vertical-align: top;\n",
       "    }\n",
       "\n",
       "    .dataframe thead th {\n",
       "        text-align: right;\n",
       "    }\n",
       "</style>\n",
       "<table border=\"1\" class=\"dataframe\">\n",
       "  <thead>\n",
       "    <tr style=\"text-align: right;\">\n",
       "      <th></th>\n",
       "      <th>Date</th>\n",
       "      <th>Open</th>\n",
       "      <th>High</th>\n",
       "      <th>Low</th>\n",
       "      <th>Close</th>\n",
       "      <th>Adj Close</th>\n",
       "      <th>Volume</th>\n",
       "    </tr>\n",
       "  </thead>\n",
       "  <tbody>\n",
       "    <tr>\n",
       "      <th>0</th>\n",
       "      <td>2022-10-10</td>\n",
       "      <td>3010.000000</td>\n",
       "      <td>3127.000000</td>\n",
       "      <td>3005.000000</td>\n",
       "      <td>3118.550049</td>\n",
       "      <td>3018.387207</td>\n",
       "      <td>3064063</td>\n",
       "    </tr>\n",
       "    <tr>\n",
       "      <th>1</th>\n",
       "      <td>2022-10-11</td>\n",
       "      <td>3100.000000</td>\n",
       "      <td>3145.000000</td>\n",
       "      <td>3053.350098</td>\n",
       "      <td>3069.550049</td>\n",
       "      <td>2970.960693</td>\n",
       "      <td>4730645</td>\n",
       "    </tr>\n",
       "    <tr>\n",
       "      <th>2</th>\n",
       "      <td>2022-10-12</td>\n",
       "      <td>3084.899902</td>\n",
       "      <td>3109.899902</td>\n",
       "      <td>3062.050049</td>\n",
       "      <td>3100.750000</td>\n",
       "      <td>3001.158691</td>\n",
       "      <td>1665247</td>\n",
       "    </tr>\n",
       "    <tr>\n",
       "      <th>3</th>\n",
       "      <td>2022-10-13</td>\n",
       "      <td>3100.750000</td>\n",
       "      <td>3110.000000</td>\n",
       "      <td>3052.350098</td>\n",
       "      <td>3103.300049</td>\n",
       "      <td>3003.626953</td>\n",
       "      <td>2054781</td>\n",
       "    </tr>\n",
       "    <tr>\n",
       "      <th>4</th>\n",
       "      <td>2022-10-14</td>\n",
       "      <td>3145.000000</td>\n",
       "      <td>3150.000000</td>\n",
       "      <td>3071.000000</td>\n",
       "      <td>3099.149902</td>\n",
       "      <td>2999.609863</td>\n",
       "      <td>2245977</td>\n",
       "    </tr>\n",
       "  </tbody>\n",
       "</table>\n",
       "</div>"
      ],
      "text/plain": [
       "         Date         Open         High          Low        Close  \\\n",
       "0  2022-10-10  3010.000000  3127.000000  3005.000000  3118.550049   \n",
       "1  2022-10-11  3100.000000  3145.000000  3053.350098  3069.550049   \n",
       "2  2022-10-12  3084.899902  3109.899902  3062.050049  3100.750000   \n",
       "3  2022-10-13  3100.750000  3110.000000  3052.350098  3103.300049   \n",
       "4  2022-10-14  3145.000000  3150.000000  3071.000000  3099.149902   \n",
       "\n",
       "     Adj Close   Volume  \n",
       "0  3018.387207  3064063  \n",
       "1  2970.960693  4730645  \n",
       "2  3001.158691  1665247  \n",
       "3  3003.626953  2054781  \n",
       "4  2999.609863  2245977  "
      ]
     },
     "execution_count": 110,
     "metadata": {},
     "output_type": "execute_result"
    }
   ],
   "source": [
    " ticker = \"TCS.NS\" #Enter Stock Ticker Here \n",
    " start_date = \"2022-10-10\" #Duration \n",
    " end_date = \"2023-10-18\"\n",
    "\n",
    " stock = yf.download(ticker, start=start_date , end = end_date )\n",
    " print(data)\n",
    " stock.to_csv(f\"ticker_data.csv\")\n",
    " stock = pd.read_csv('ticker_data.csv')\n",
    " stock.head()"
   ]
  },
  {
   "cell_type": "code",
   "execution_count": 111,
   "id": "55077ebe-2862-480f-94d2-48bb4a9d1075",
   "metadata": {},
   "outputs": [
    {
     "data": {
      "text/html": [
       "<div>\n",
       "<style scoped>\n",
       "    .dataframe tbody tr th:only-of-type {\n",
       "        vertical-align: middle;\n",
       "    }\n",
       "\n",
       "    .dataframe tbody tr th {\n",
       "        vertical-align: top;\n",
       "    }\n",
       "\n",
       "    .dataframe thead th {\n",
       "        text-align: right;\n",
       "    }\n",
       "</style>\n",
       "<table border=\"1\" class=\"dataframe\">\n",
       "  <thead>\n",
       "    <tr style=\"text-align: right;\">\n",
       "      <th></th>\n",
       "      <th>Date</th>\n",
       "      <th>Open</th>\n",
       "      <th>High</th>\n",
       "      <th>Low</th>\n",
       "      <th>Close</th>\n",
       "      <th>Adj Close</th>\n",
       "      <th>Volume</th>\n",
       "    </tr>\n",
       "  </thead>\n",
       "  <tbody>\n",
       "    <tr>\n",
       "      <th>249</th>\n",
       "      <td>2023-10-11</td>\n",
       "      <td>3650.0</td>\n",
       "      <td>3650.000000</td>\n",
       "      <td>3605.000000</td>\n",
       "      <td>3609.899902</td>\n",
       "      <td>3609.899902</td>\n",
       "      <td>2426417</td>\n",
       "    </tr>\n",
       "    <tr>\n",
       "      <th>250</th>\n",
       "      <td>2023-10-12</td>\n",
       "      <td>3575.0</td>\n",
       "      <td>3588.649902</td>\n",
       "      <td>3538.100098</td>\n",
       "      <td>3542.550049</td>\n",
       "      <td>3542.550049</td>\n",
       "      <td>4241281</td>\n",
       "    </tr>\n",
       "    <tr>\n",
       "      <th>251</th>\n",
       "      <td>2023-10-13</td>\n",
       "      <td>3530.0</td>\n",
       "      <td>3577.000000</td>\n",
       "      <td>3525.000000</td>\n",
       "      <td>3570.850098</td>\n",
       "      <td>3570.850098</td>\n",
       "      <td>2890357</td>\n",
       "    </tr>\n",
       "    <tr>\n",
       "      <th>252</th>\n",
       "      <td>2023-10-16</td>\n",
       "      <td>3566.0</td>\n",
       "      <td>3574.649902</td>\n",
       "      <td>3519.100098</td>\n",
       "      <td>3524.050049</td>\n",
       "      <td>3524.050049</td>\n",
       "      <td>1671104</td>\n",
       "    </tr>\n",
       "    <tr>\n",
       "      <th>253</th>\n",
       "      <td>2023-10-17</td>\n",
       "      <td>3530.0</td>\n",
       "      <td>3534.149902</td>\n",
       "      <td>3503.350098</td>\n",
       "      <td>3507.050049</td>\n",
       "      <td>3507.050049</td>\n",
       "      <td>1672065</td>\n",
       "    </tr>\n",
       "  </tbody>\n",
       "</table>\n",
       "</div>"
      ],
      "text/plain": [
       "           Date    Open         High          Low        Close    Adj Close  \\\n",
       "249  2023-10-11  3650.0  3650.000000  3605.000000  3609.899902  3609.899902   \n",
       "250  2023-10-12  3575.0  3588.649902  3538.100098  3542.550049  3542.550049   \n",
       "251  2023-10-13  3530.0  3577.000000  3525.000000  3570.850098  3570.850098   \n",
       "252  2023-10-16  3566.0  3574.649902  3519.100098  3524.050049  3524.050049   \n",
       "253  2023-10-17  3530.0  3534.149902  3503.350098  3507.050049  3507.050049   \n",
       "\n",
       "      Volume  \n",
       "249  2426417  \n",
       "250  4241281  \n",
       "251  2890357  \n",
       "252  1671104  \n",
       "253  1672065  "
      ]
     },
     "execution_count": 111,
     "metadata": {},
     "output_type": "execute_result"
    }
   ],
   "source": [
    " stock.tail()"
   ]
  },
  {
   "cell_type": "code",
   "execution_count": 93,
   "id": "ddee1e65-9ee4-4378-9c35-f777353b0174",
   "metadata": {},
   "outputs": [
    {
     "name": "stdout",
     "output_type": "stream",
     "text": [
      "<class 'pandas.core.frame.DataFrame'>\n",
      "RangeIndex: 248 entries, 0 to 247\n",
      "Data columns (total 7 columns):\n",
      " #   Column     Non-Null Count  Dtype  \n",
      "---  ------     --------------  -----  \n",
      " 0   Date       248 non-null    object \n",
      " 1   Open       248 non-null    float64\n",
      " 2   High       248 non-null    float64\n",
      " 3   Low        248 non-null    float64\n",
      " 4   Close      248 non-null    float64\n",
      " 5   Adj Close  248 non-null    float64\n",
      " 6   Volume     248 non-null    int64  \n",
      "dtypes: float64(5), int64(1), object(1)\n",
      "memory usage: 13.7+ KB\n"
     ]
    }
   ],
   "source": [
    "stock.info()"
   ]
  },
  {
   "cell_type": "code",
   "execution_count": 94,
   "id": "4e0e3aae-6476-4694-9fad-1679d3624be6",
   "metadata": {},
   "outputs": [],
   "source": [
    "stock['Date'] = pd.to_datetime(stock['Date'])"
   ]
  },
  {
   "cell_type": "code",
   "execution_count": 95,
   "id": "8c45454f-c05c-49e1-809b-569870dc5a77",
   "metadata": {},
   "outputs": [
    {
     "name": "stdout",
     "output_type": "stream",
     "text": [
      "Dataframe contains stock price between 2022-10-10 00:00:00 2023-10-09 00:00:00\n",
      "Total Days = 364\n"
     ]
    }
   ],
   "source": [
    "print(f'Dataframe contains stock price between {stock.Date.min()} {stock.Date.max()}')\n",
    "print(f'Total Days = {(stock.Date.max() - stock.Date.min()).days}')"
   ]
  },
  {
   "cell_type": "code",
   "execution_count": 96,
   "id": "625df6de-d413-4d60-9b0a-2750c63ecc14",
   "metadata": {},
   "outputs": [
    {
     "data": {
      "text/html": [
       "<div>\n",
       "<style scoped>\n",
       "    .dataframe tbody tr th:only-of-type {\n",
       "        vertical-align: middle;\n",
       "    }\n",
       "\n",
       "    .dataframe tbody tr th {\n",
       "        vertical-align: top;\n",
       "    }\n",
       "\n",
       "    .dataframe thead th {\n",
       "        text-align: right;\n",
       "    }\n",
       "</style>\n",
       "<table border=\"1\" class=\"dataframe\">\n",
       "  <thead>\n",
       "    <tr style=\"text-align: right;\">\n",
       "      <th></th>\n",
       "      <th>Date</th>\n",
       "      <th>Open</th>\n",
       "      <th>High</th>\n",
       "      <th>Low</th>\n",
       "      <th>Close</th>\n",
       "      <th>Adj Close</th>\n",
       "      <th>Volume</th>\n",
       "    </tr>\n",
       "  </thead>\n",
       "  <tbody>\n",
       "    <tr>\n",
       "      <th>count</th>\n",
       "      <td>248</td>\n",
       "      <td>248.000000</td>\n",
       "      <td>248.000000</td>\n",
       "      <td>248.000000</td>\n",
       "      <td>248.000000</td>\n",
       "      <td>248.000000</td>\n",
       "      <td>2.480000e+02</td>\n",
       "    </tr>\n",
       "    <tr>\n",
       "      <th>mean</th>\n",
       "      <td>2023-04-08 16:03:52.258064640</td>\n",
       "      <td>3325.645767</td>\n",
       "      <td>3350.943943</td>\n",
       "      <td>3299.395171</td>\n",
       "      <td>3327.246773</td>\n",
       "      <td>3286.352575</td>\n",
       "      <td>1.856199e+06</td>\n",
       "    </tr>\n",
       "    <tr>\n",
       "      <th>min</th>\n",
       "      <td>2022-10-10 00:00:00</td>\n",
       "      <td>3010.000000</td>\n",
       "      <td>3109.899902</td>\n",
       "      <td>3005.000000</td>\n",
       "      <td>3069.550049</td>\n",
       "      <td>2970.960938</td>\n",
       "      <td>0.000000e+00</td>\n",
       "    </tr>\n",
       "    <tr>\n",
       "      <th>25%</th>\n",
       "      <td>2023-01-05 18:00:00</td>\n",
       "      <td>3228.275085</td>\n",
       "      <td>3255.600098</td>\n",
       "      <td>3204.875061</td>\n",
       "      <td>3226.487488</td>\n",
       "      <td>3177.197632</td>\n",
       "      <td>1.325038e+06</td>\n",
       "    </tr>\n",
       "    <tr>\n",
       "      <th>50%</th>\n",
       "      <td>2023-04-10 12:00:00</td>\n",
       "      <td>3316.625000</td>\n",
       "      <td>3339.299927</td>\n",
       "      <td>3291.000000</td>\n",
       "      <td>3319.949951</td>\n",
       "      <td>3263.862793</td>\n",
       "      <td>1.656054e+06</td>\n",
       "    </tr>\n",
       "    <tr>\n",
       "      <th>75%</th>\n",
       "      <td>2023-07-10 06:00:00</td>\n",
       "      <td>3414.962463</td>\n",
       "      <td>3436.037476</td>\n",
       "      <td>3383.537537</td>\n",
       "      <td>3414.075012</td>\n",
       "      <td>3395.925781</td>\n",
       "      <td>2.058496e+06</td>\n",
       "    </tr>\n",
       "    <tr>\n",
       "      <th>max</th>\n",
       "      <td>2023-10-09 00:00:00</td>\n",
       "      <td>3645.050049</td>\n",
       "      <td>3679.000000</td>\n",
       "      <td>3631.000000</td>\n",
       "      <td>3638.350098</td>\n",
       "      <td>3638.350098</td>\n",
       "      <td>6.739966e+06</td>\n",
       "    </tr>\n",
       "    <tr>\n",
       "      <th>std</th>\n",
       "      <td>NaN</td>\n",
       "      <td>126.527426</td>\n",
       "      <td>128.321806</td>\n",
       "      <td>127.354397</td>\n",
       "      <td>128.707606</td>\n",
       "      <td>147.455307</td>\n",
       "      <td>9.113451e+05</td>\n",
       "    </tr>\n",
       "  </tbody>\n",
       "</table>\n",
       "</div>"
      ],
      "text/plain": [
       "                                Date         Open         High          Low  \\\n",
       "count                            248   248.000000   248.000000   248.000000   \n",
       "mean   2023-04-08 16:03:52.258064640  3325.645767  3350.943943  3299.395171   \n",
       "min              2022-10-10 00:00:00  3010.000000  3109.899902  3005.000000   \n",
       "25%              2023-01-05 18:00:00  3228.275085  3255.600098  3204.875061   \n",
       "50%              2023-04-10 12:00:00  3316.625000  3339.299927  3291.000000   \n",
       "75%              2023-07-10 06:00:00  3414.962463  3436.037476  3383.537537   \n",
       "max              2023-10-09 00:00:00  3645.050049  3679.000000  3631.000000   \n",
       "std                              NaN   126.527426   128.321806   127.354397   \n",
       "\n",
       "             Close    Adj Close        Volume  \n",
       "count   248.000000   248.000000  2.480000e+02  \n",
       "mean   3327.246773  3286.352575  1.856199e+06  \n",
       "min    3069.550049  2970.960938  0.000000e+00  \n",
       "25%    3226.487488  3177.197632  1.325038e+06  \n",
       "50%    3319.949951  3263.862793  1.656054e+06  \n",
       "75%    3414.075012  3395.925781  2.058496e+06  \n",
       "max    3638.350098  3638.350098  6.739966e+06  \n",
       "std     128.707606   147.455307  9.113451e+05  "
      ]
     },
     "execution_count": 96,
     "metadata": {},
     "output_type": "execute_result"
    }
   ],
   "source": [
    "stock.describe()"
   ]
  },
  {
   "cell_type": "code",
   "execution_count": 97,
   "id": "b1ffae8f-263e-4251-942e-c052595a8ef1",
   "metadata": {},
   "outputs": [
    {
     "data": {
      "text/plain": [
       "<Axes: >"
      ]
     },
     "execution_count": 97,
     "metadata": {},
     "output_type": "execute_result"
    },
    {
     "data": {
      "image/png": "[encoded data removed]",
      "text/plain": [
       "<Figure size 640x480 with 1 Axes>"
      ]
     },
     "metadata": {},
     "output_type": "display_data"
    }
   ],
   "source": [
    "stock[['Open','High','Low','Close']].plot(kind='box')"
   ]
  },
  {
   "cell_type": "code",
   "execution_count": 98,
   "id": "97c65453-d358-46cf-b3ee-77bf21156f91",
   "metadata": {},
   "outputs": [
    {
     "name": "stderr",
     "output_type": "stream",
     "text": [
      "C:\\Users\\athar\\AppData\\Local\\Programs\\Python\\Python311\\Lib\\site-packages\\_plotly_utils\\basevalidators.py:105: FutureWarning:\n",
      "\n",
      "The behavior of DatetimeProperties.to_pydatetime is deprecated, in a future version this will return a Series containing python datetime objects instead of an ndarray. To retain the old behavior, call `np.array` on the result\n",
      "\n"
     ]
    }
   ],
   "source": [
    "#setting layout for our plot\n",
    "layout = go.Layout(\n",
    "    title='Stock Prices ',\n",
    "    xaxis=dict(\n",
    "        title='Date',\n",
    "        titlefont=dict(\n",
    "            family='Courier New, monospace',\n",
    "            size=18,\n",
    "            color='#7f7f7f'\n",
    "        )\n",
    "    ),\n",
    "    yaxis=dict(\n",
    "        title='Price',\n",
    "        titlefont=dict(\n",
    "            family='Courier New, monospace',\n",
    "            size=18,\n",
    "            color='#7f7f7f'\n",
    "        )\n",
    "    )\n",
    ")\n",
    "\n",
    "stock_data = [{'x':stock['Date'] , 'y':stock['Close']}]\n",
    "plot = go.Figure(data=stock_data , layout=layout)"
   ]
  },
  {
   "cell_type": "code",
   "execution_count": 99,
   "id": "2280ab3b-4e3f-4eeb-9f50-f327161f161e",
   "metadata": {},
   "outputs": [
    {
     "data": {
      "application/vnd.plotly.v1+json": {
       "config": {
        "linkText": "Export to plot.ly",
        "plotlyServerURL": "https://plot.ly",
        "showLink": false
       },
       "data": [
        {
         "type": "scatter",
         "x": [
          "2022-10-10T00:00:00",
          "2022-10-11T00:00:00",
          "2022-10-12T00:00:00",
          "2022-10-13T00:00:00",
          "2022-10-14T00:00:00",
          "2022-10-17T00:00:00",
          "2022-10-18T00:00:00",
          "2022-10-19T00:00:00",
          "2022-10-20T00:00:00",
          "2022-10-21T00:00:00",
          "2022-10-24T00:00:00",
          "2022-10-25T00:00:00",
          "2022-10-27T00:00:00",
          "2022-10-28T00:00:00",
          "2022-10-31T00:00:00",
          "2022-11-01T00:00:00",
          "2022-11-02T00:00:00",
          "2022-11-03T00:00:00",
          "2022-11-04T00:00:00",
          "2022-11-07T00:00:00",
          "2022-11-09T00:00:00",
          "2022-11-10T00:00:00",
          "2022-11-11T00:00:00",
          "2022-11-14T00:00:00",
          "2022-11-15T00:00:00",
          "2022-11-16T00:00:00",
          "2022-11-17T00:00:00",
          "2022-11-18T00:00:00",
          "2022-11-21T00:00:00",
          "2022-11-22T00:00:00",
          "2022-11-23T00:00:00",
          "2022-11-24T00:00:00",
          "2022-11-25T00:00:00",
          "2022-11-28T00:00:00",
          "2022-11-29T00:00:00",
          "2022-11-30T00:00:00",
          "2022-12-01T00:00:00",
          "2022-12-02T00:00:00",
          "2022-12-05T00:00:00",
          "2022-12-06T00:00:00",
          "2022-12-07T00:00:00",
          "2022-12-08T00:00:00",
          "2022-12-09T00:00:00",
          "2022-12-12T00:00:00",
          "2022-12-13T00:00:00",
          "2022-12-14T00:00:00",
          "2022-12-15T00:00:00",
          "2022-12-16T00:00:00",
          "2022-12-19T00:00:00",
          "2022-12-20T00:00:00",
          "2022-12-21T00:00:00",
          "2022-12-22T00:00:00",
          "2022-12-23T00:00:00",
          "2022-12-26T00:00:00",
          "2022-12-27T00:00:00",
          "2022-12-28T00:00:00",
          "2022-12-29T00:00:00",
          "2022-12-30T00:00:00",
          "2023-01-02T00:00:00",
          "2023-01-03T00:00:00",
          "2023-01-04T00:00:00",
          "2023-01-05T00:00:00",
          "2023-01-06T00:00:00",
          "2023-01-09T00:00:00",
          "2023-01-10T00:00:00",
          "2023-01-11T00:00:00",
          "2023-01-12T00:00:00",
          "2023-01-13T00:00:00",
          "2023-01-16T00:00:00",
          "2023-01-17T00:00:00",
          "2023-01-18T00:00:00",
          "2023-01-19T00:00:00",
          "2023-01-20T00:00:00",
          "2023-01-23T00:00:00",
          "2023-01-24T00:00:00",
          "2023-01-25T00:00:00",
          "2023-01-27T00:00:00",
          "2023-01-30T00:00:00",
          "2023-01-31T00:00:00",
          "2023-02-01T00:00:00",
          "2023-02-02T00:00:00",
          "2023-02-03T00:00:00",
          "2023-02-06T00:00:00",
          "2023-02-07T00:00:00",
          "2023-02-08T00:00:00",
          "2023-02-09T00:00:00",
          "2023-02-10T00:00:00",
          "2023-02-13T00:00:00",
          "2023-02-14T00:00:00",
          "2023-02-15T00:00:00",
          "2023-02-16T00:00:00",
          "2023-02-17T00:00:00",
          "2023-02-20T00:00:00",
          "2023-02-21T00:00:00",
          "2023-02-22T00:00:00",
          "2023-02-23T00:00:00",
          "2023-02-24T00:00:00",
          "2023-02-27T00:00:00",
          "2023-02-28T00:00:00",
          "2023-03-01T00:00:00",
          "2023-03-02T00:00:00",
          "2023-03-03T00:00:00",
          "2023-03-06T00:00:00",
          "2023-03-08T00:00:00",
          "2023-03-09T00:00:00",
          "2023-03-10T00:00:00",
          "2023-03-13T00:00:00",
          "2023-03-14T00:00:00",
          "2023-03-15T00:00:00",
          "2023-03-16T00:00:00",
          "2023-03-17T00:00:00",
          "2023-03-20T00:00:00",
          "2023-03-21T00:00:00",
          "2023-03-22T00:00:00",
          "2023-03-23T00:00:00",
          "2023-03-24T00:00:00",
          "2023-03-27T00:00:00",
          "2023-03-28T00:00:00",
          "2023-03-29T00:00:00",
          "2023-03-31T00:00:00",
          "2023-04-03T00:00:00",
          "2023-04-05T00:00:00",
          "2023-04-06T00:00:00",
          "2023-04-10T00:00:00",
          "2023-04-11T00:00:00",
          "2023-04-12T00:00:00",
          "2023-04-13T00:00:00",
          "2023-04-17T00:00:00",
          "2023-04-18T00:00:00",
          "2023-04-19T00:00:00",
          "2023-04-20T00:00:00",
          "2023-04-21T00:00:00",
          "2023-04-24T00:00:00",
          "2023-04-25T00:00:00",
          "2023-04-26T00:00:00",
          "2023-04-27T00:00:00",
          "2023-04-28T00:00:00",
          "2023-05-02T00:00:00",
          "2023-05-03T00:00:00",
          "2023-05-04T00:00:00",
          "2023-05-05T00:00:00",
          "2023-05-08T00:00:00",
          "2023-05-09T00:00:00",
          "2023-05-10T00:00:00",
          "2023-05-11T00:00:00",
          "2023-05-12T00:00:00",
          "2023-05-15T00:00:00",
          "2023-05-16T00:00:00",
          "2023-05-17T00:00:00",
          "2023-05-18T00:00:00",
          "2023-05-19T00:00:00",
          "2023-05-22T00:00:00",
          "2023-05-23T00:00:00",
          "2023-05-24T00:00:00",
          "2023-05-25T00:00:00",
          "2023-05-26T00:00:00",
          "2023-05-29T00:00:00",
          "2023-05-30T00:00:00",
          "2023-05-31T00:00:00",
          "2023-06-01T00:00:00",
          "2023-06-02T00:00:00",
          "2023-06-05T00:00:00",
          "2023-06-06T00:00:00",
          "2023-06-07T00:00:00",
          "2023-06-08T00:00:00",
          "2023-06-09T00:00:00",
          "2023-06-12T00:00:00",
          "2023-06-13T00:00:00",
          "2023-06-14T00:00:00",
          "2023-06-15T00:00:00",
          "2023-06-16T00:00:00",
          "2023-06-19T00:00:00",
          "2023-06-20T00:00:00",
          "2023-06-21T00:00:00",
          "2023-06-22T00:00:00",
          "2023-06-23T00:00:00",
          "2023-06-26T00:00:00",
          "2023-06-27T00:00:00",
          "2023-06-28T00:00:00",
          "2023-06-30T00:00:00",
          "2023-07-03T00:00:00",
          "2023-07-04T00:00:00",
          "2023-07-05T00:00:00",
          "2023-07-06T00:00:00",
          "2023-07-07T00:00:00",
          "2023-07-10T00:00:00",
          "2023-07-11T00:00:00",
          "2023-07-12T00:00:00",
          "2023-07-13T00:00:00",
          "2023-07-14T00:00:00",
          "2023-07-17T00:00:00",
          "2023-07-18T00:00:00",
          "2023-07-19T00:00:00",
          "2023-07-20T00:00:00",
          "2023-07-21T00:00:00",
          "2023-07-24T00:00:00",
          "2023-07-25T00:00:00",
          "2023-07-26T00:00:00",
          "2023-07-27T00:00:00",
          "2023-07-28T00:00:00",
          "2023-07-31T00:00:00",
          "2023-08-01T00:00:00",
          "2023-08-02T00:00:00",
          "2023-08-03T00:00:00",
          "2023-08-04T00:00:00",
          "2023-08-07T00:00:00",
          "2023-08-08T00:00:00",
          "2023-08-09T00:00:00",
          "2023-08-10T00:00:00",
          "2023-08-11T00:00:00",
          "2023-08-14T00:00:00",
          "2023-08-16T00:00:00",
          "2023-08-17T00:00:00",
          "2023-08-18T00:00:00",
          "2023-08-21T00:00:00",
          "2023-08-22T00:00:00",
          "2023-08-23T00:00:00",
          "2023-08-24T00:00:00",
          "2023-08-25T00:00:00",
          "2023-08-28T00:00:00",
          "2023-08-29T00:00:00",
          "2023-08-30T00:00:00",
          "2023-08-31T00:00:00",
          "2023-09-01T00:00:00",
          "2023-09-04T00:00:00",
          "2023-09-05T00:00:00",
          "2023-09-06T00:00:00",
          "2023-09-07T00:00:00",
          "2023-09-08T00:00:00",
          "2023-09-11T00:00:00",
          "2023-09-12T00:00:00",
          "2023-09-13T00:00:00",
          "2023-09-14T00:00:00",
          "2023-09-15T00:00:00",
          "2023-09-18T00:00:00",
          "2023-09-20T00:00:00",
          "2023-09-21T00:00:00",
          "2023-09-22T00:00:00",
          "2023-09-25T00:00:00",
          "2023-09-26T00:00:00",
          "2023-09-27T00:00:00",
          "2023-09-28T00:00:00",
          "2023-09-29T00:00:00",
          "2023-10-03T00:00:00",
          "2023-10-04T00:00:00",
          "2023-10-05T00:00:00",
          "2023-10-06T00:00:00",
          "2023-10-09T00:00:00"
         ],
         "y": [
          3118.550048828125,
          3069.550048828125,
          3100.75,
          3103.300048828125,
          3099.14990234375,
          3111.75,
          3144.699951171875,
          3121.85009765625,
          3157.300048828125,
          3137.39990234375,
          3161.699951171875,
          3162.10009765625,
          3157.39990234375,
          3163.25,
          3193.14990234375,
          3259.699951171875,
          3241.699951171875,
          3206.75,
          3217.39990234375,
          3233.699951171875,
          3216.050048828125,
          3205.64990234375,
          3315.949951171875,
          3335.5,
          3332.60009765625,
          3355.35009765625,
          3349,
          3343.449951171875,
          3283.5,
          3314.949951171875,
          3308.300048828125,
          3380.14990234375,
          3389.64990234375,
          3395.25,
          3397.35009765625,
          3390.800048828125,
          3475.64990234375,
          3439.14990234375,
          3425.89990234375,
          3385.35009765625,
          3380.60009765625,
          3350.550048828125,
          3292.75,
          3286.449951171875,
          3332.10009765625,
          3365.35009765625,
          3305.10009765625,
          3240.25,
          3202.050048828125,
          3243.949951171875,
          3268.550048828125,
          3259.699951171875,
          3228.35009765625,
          3252.89990234375,
          3259.5,
          3257.10009765625,
          3268.75,
          3256.699951171875,
          3261.449951171875,
          3311.35009765625,
          3314.64990234375,
          3311.10009765625,
          3211.550048828125,
          3319.949951171875,
          3286.39990234375,
          3328.699951171875,
          3334.35009765625,
          3374.550048828125,
          3334.050048828125,
          3378.39990234375,
          3390,
          3373.10009765625,
          3363.10009765625,
          3414.89990234375,
          3436.300048828125,
          3429.75,
          3411.050048828125,
          3433.64990234375,
          3358.699951171875,
          3408.35009765625,
          3460.39990234375,
          3482.300048828125,
          3459.949951171875,
          3472.550048828125,
          3520.10009765625,
          3540.85009765625,
          3537.550048828125,
          3482.39990234375,
          3500.10009765625,
          3520.64990234375,
          3558.050048828125,
          3501.14990234375,
          3487.300048828125,
          3451,
          3401.550048828125,
          3413.800048828125,
          3400.449951171875,
          3331.85009765625,
          3312.85009765625,
          3385.699951171875,
          3321.449951171875,
          3342.14990234375,
          3371.85009765625,
          3390.39990234375,
          3336.85009765625,
          3331,
          3281.949951171875,
          3214.949951171875,
          3198.89990234375,
          3185,
          3179.300048828125,
          3143.300048828125,
          3106.10009765625,
          3130.800048828125,
          3124.64990234375,
          3120.5,
          3122.300048828125,
          3115.89990234375,
          3138.89990234375,
          3205.89990234375,
          3200,
          3239.800048828125,
          3220.699951171875,
          3263.39990234375,
          3213.800048828125,
          3241.64990234375,
          3188.85009765625,
          3139.5,
          3130.75,
          3089.60009765625,
          3104.800048828125,
          3160.85009765625,
          3174.800048828125,
          3176,
          3198.14990234375,
          3187.949951171875,
          3219.25,
          3219.39990234375,
          3179.89990234375,
          3220.699951171875,
          3230.699951171875,
          3250.60009765625,
          3283.25,
          3286.800048828125,
          3282.14990234375,
          3274.300048828125,
          3255.050048828125,
          3258.14990234375,
          3208.699951171875,
          3199.85009765625,
          3222.85009765625,
          3298.699951171875,
          3297.050048828125,
          3303.35009765625,
          3293.5,
          3328.89990234375,
          3320.35009765625,
          3316.199951171875,
          3289.5,
          3324,
          3305.60009765625,
          3288.89990234375,
          3232.300048828125,
          3274.89990234375,
          3236.449951171875,
          3209.300048828125,
          3246.89990234375,
          3243.699951171875,
          3251.050048828125,
          3216.300048828125,
          3174.89990234375,
          3210.39990234375,
          3227.699951171875,
          3258.199951171875,
          3238.5,
          3216.35009765625,
          3189.64990234375,
          3197.35009765625,
          3197.35009765625,
          3302.25,
          3272.300048828125,
          3308.85009765625,
          3319.949951171875,
          3322.89990234375,
          3329.25,
          3271.949951171875,
          3272.39990234375,
          3259.89990234375,
          3340.550048828125,
          3514.64990234375,
          3491.699951171875,
          3496.85009765625,
          3470.050048828125,
          3463.300048828125,
          3368.300048828125,
          3394.75,
          3399.14990234375,
          3388.300048828125,
          3396.89990234375,
          3355.39990234375,
          3421.449951171875,
          3452.050048828125,
          3440.64990234375,
          3399.949951171875,
          3443.550048828125,
          3484.050048828125,
          3470.60009765625,
          3462.5,
          3442.10009765625,
          3448.800048828125,
          3449.85009765625,
          3458.39990234375,
          3435.75,
          3367.10009765625,
          3401.64990234375,
          3382.14990234375,
          3398.25,
          3387.75,
          3381.300048828125,
          3375.550048828125,
          3376.14990234375,
          3390.949951171875,
          3356.800048828125,
          3379.199951171875,
          3418.5,
          3429.35009765625,
          3429.89990234375,
          3455.25,
          3441.89990234375,
          3480.64990234375,
          3580.800048828125,
          3567.85009765625,
          3560.050048828125,
          3598.300048828125,
          3606.14990234375,
          3606.050048828125,
          3585.300048828125,
          3603.64990234375,
          3577.14990234375,
          3585.699951171875,
          3589.300048828125,
          3536.75,
          3528.60009765625,
          3513.85009765625,
          3537.75,
          3589.35009765625,
          3621.39990234375,
          3638.35009765625
         ]
        }
       ],
       "layout": {
        "autosize": true,
        "template": {
         "data": {
          "bar": [
           {
            "error_x": {
             "color": "#2a3f5f"
            },
            "error_y": {
             "color": "#2a3f5f"
            },
            "marker": {
             "line": {
              "color": "#E5ECF6",
              "width": 0.5
             },
             "pattern": {
              "fillmode": "overlay",
              "size": 10,
              "solidity": 0.2
             }
            },
            "type": "bar"
           }
          ],
          "barpolar": [
           {
            "marker": {
             "line": {
              "color": "#E5ECF6",
              "width": 0.5
             },
             "pattern": {
              "fillmode": "overlay",
              "size": 10,
              "solidity": 0.2
             }
            },
            "type": "barpolar"
           }
          ],
          "carpet": [
           {
            "aaxis": {
             "endlinecolor": "#2a3f5f",
             "gridcolor": "white",
             "linecolor": "white",
             "minorgridcolor": "white",
             "startlinecolor": "#2a3f5f"
            },
            "baxis": {
             "endlinecolor": "#2a3f5f",
             "gridcolor": "white",
             "linecolor": "white",
             "minorgridcolor": "white",
             "startlinecolor": "#2a3f5f"
            },
            "type": "carpet"
           }
          ],
          "choropleth": [
           {
            "colorbar": {
             "outlinewidth": 0,
             "ticks": ""
            },
            "type": "choropleth"
           }
          ],
          "contour": [
           {
            "colorbar": {
             "outlinewidth": 0,
             "ticks": ""
            },
            "colorscale": [
             [
              0,
              "#0d0887"
             ],
             [
              0.1111111111111111,
              "#46039f"
             ],
             [
              0.2222222222222222,
              "#7201a8"
             ],
             [
              0.3333333333333333,
              "#9c179e"
             ],
             [
              0.4444444444444444,
              "#bd3786"
             ],
             [
              0.5555555555555556,
              "#d8576b"
             ],
             [
              0.6666666666666666,
              "#ed7953"
             ],
             [
              0.7777777777777778,
              "#fb9f3a"
             ],
             [
              0.8888888888888888,
              "#fdca26"
             ],
             [
              1,
              "#f0f921"
             ]
            ],
            "type": "contour"
           }
          ],
          "contourcarpet": [
           {
            "colorbar": {
             "outlinewidth": 0,
             "ticks": ""
            },
            "type": "contourcarpet"
           }
          ],
          "heatmap": [
           {
            "colorbar": {
             "outlinewidth": 0,
             "ticks": ""
            },
            "colorscale": [
             [
              0,
              "#0d0887"
             ],
             [
              0.1111111111111111,
              "#46039f"
             ],
             [
              0.2222222222222222,
              "#7201a8"
             ],
             [
              0.3333333333333333,
              "#9c179e"
             ],
             [
              0.4444444444444444,
              "#bd3786"
             ],
             [
              0.5555555555555556,
              "#d8576b"
             ],
             [
              0.6666666666666666,
              "#ed7953"
             ],
             [
              0.7777777777777778,
              "#fb9f3a"
             ],
             [
              0.8888888888888888,
              "#fdca26"
             ],
             [
              1,
              "#f0f921"
             ]
            ],
            "type": "heatmap"
           }
          ],
          "heatmapgl": [
           {
            "colorbar": {
             "outlinewidth": 0,
             "ticks": ""
            },
            "colorscale": [
             [
              0,
              "#0d0887"
             ],
             [
              0.1111111111111111,
              "#46039f"
             ],
             [
              0.2222222222222222,
              "#7201a8"
             ],
             [
              0.3333333333333333,
              "#9c179e"
             ],
             [
              0.4444444444444444,
              "#bd3786"
             ],
             [
              0.5555555555555556,
              "#d8576b"
             ],
             [
              0.6666666666666666,
              "#ed7953"
             ],
             [
              0.7777777777777778,
              "#fb9f3a"
             ],
             [
              0.8888888888888888,
              "#fdca26"
             ],
             [
              1,
              "#f0f921"
             ]
            ],
            "type": "heatmapgl"
           }
          ],
          "histogram": [
           {
            "marker": {
             "pattern": {
              "fillmode": "overlay",
              "size": 10,
              "solidity": 0.2
             }
            },
            "type": "histogram"
           }
          ],
          "histogram2d": [
           {
            "colorbar": {
             "outlinewidth": 0,
             "ticks": ""
            },
            "colorscale": [
             [
              0,
              "#0d0887"
             ],
             [
              0.1111111111111111,
              "#46039f"
             ],
             [
              0.2222222222222222,
              "#7201a8"
             ],
             [
              0.3333333333333333,
              "#9c179e"
             ],
             [
              0.4444444444444444,
              "#bd3786"
             ],
             [
              0.5555555555555556,
              "#d8576b"
             ],
             [
              0.6666666666666666,
              "#ed7953"
             ],
             [
              0.7777777777777778,
              "#fb9f3a"
             ],
             [
              0.8888888888888888,
              "#fdca26"
             ],
             [
              1,
              "#f0f921"
             ]
            ],
            "type": "histogram2d"
           }
          ],
          "histogram2dcontour": [
           {
            "colorbar": {
             "outlinewidth": 0,
             "ticks": ""
            },
            "colorscale": [
             [
              0,
              "#0d0887"
             ],
             [
              0.1111111111111111,
              "#46039f"
             ],
             [
              0.2222222222222222,
              "#7201a8"
             ],
             [
              0.3333333333333333,
              "#9c179e"
             ],
             [
              0.4444444444444444,
              "#bd3786"
             ],
             [
              0.5555555555555556,
              "#d8576b"
             ],
             [
              0.6666666666666666,
              "#ed7953"
             ],
             [
              0.7777777777777778,
              "#fb9f3a"
             ],
             [
              0.8888888888888888,
              "#fdca26"
             ],
             [
              1,
              "#f0f921"
             ]
            ],
            "type": "histogram2dcontour"
           }
          ],
          "mesh3d": [
           {
            "colorbar": {
             "outlinewidth": 0,
             "ticks": ""
            },
            "type": "mesh3d"
           }
          ],
          "parcoords": [
           {
            "line": {
             "colorbar": {
              "outlinewidth": 0,
              "ticks": ""
             }
            },
            "type": "parcoords"
           }
          ],
          "pie": [
           {
            "automargin": true,
            "type": "pie"
           }
          ],
          "scatter": [
           {
            "fillpattern": {
             "fillmode": "overlay",
             "size": 10,
             "solidity": 0.2
            },
            "type": "scatter"
           }
          ],
          "scatter3d": [
           {
            "line": {
             "colorbar": {
              "outlinewidth": 0,
              "ticks": ""
             }
            },
            "marker": {
             "colorbar": {
              "outlinewidth": 0,
              "ticks": ""
             }
            },
            "type": "scatter3d"
           }
          ],
          "scattercarpet": [
           {
            "marker": {
             "colorbar": {
              "outlinewidth": 0,
              "ticks": ""
             }
            },
            "type": "scattercarpet"
           }
          ],
          "scattergeo": [
           {
            "marker": {
             "colorbar": {
              "outlinewidth": 0,
              "ticks": ""
             }
            },
            "type": "scattergeo"
           }
          ],
          "scattergl": [
           {
            "marker": {
             "colorbar": {
              "outlinewidth": 0,
              "ticks": ""
             }
            },
            "type": "scattergl"
           }
          ],
          "scattermapbox": [
           {
            "marker": {
             "colorbar": {
              "outlinewidth": 0,
              "ticks": ""
             }
            },
            "type": "scattermapbox"
           }
          ],
          "scatterpolar": [
           {
            "marker": {
             "colorbar": {
              "outlinewidth": 0,
              "ticks": ""
             }
            },
            "type": "scatterpolar"
           }
          ],
          "scatterpolargl": [
           {
            "marker": {
             "colorbar": {
              "outlinewidth": 0,
              "ticks": ""
             }
            },
            "type": "scatterpolargl"
           }
          ],
          "scatterternary": [
           {
            "marker": {
             "colorbar": {
              "outlinewidth": 0,
              "ticks": ""
             }
            },
            "type": "scatterternary"
           }
          ],
          "surface": [
           {
            "colorbar": {
             "outlinewidth": 0,
             "ticks": ""
            },
            "colorscale": [
             [
              0,
              "#0d0887"
             ],
             [
              0.1111111111111111,
              "#46039f"
             ],
             [
              0.2222222222222222,
              "#7201a8"
             ],
             [
              0.3333333333333333,
              "#9c179e"
             ],
             [
              0.4444444444444444,
              "#bd3786"
             ],
             [
              0.5555555555555556,
              "#d8576b"
             ],
             [
              0.6666666666666666,
              "#ed7953"
             ],
             [
              0.7777777777777778,
              "#fb9f3a"
             ],
             [
              0.8888888888888888,
              "#fdca26"
             ],
             [
              1,
              "#f0f921"
             ]
            ],
            "type": "surface"
           }
          ],
          "table": [
           {
            "cells": {
             "fill": {
              "color": "#EBF0F8"
             },
             "line": {
              "color": "white"
             }
            },
            "header": {
             "fill": {
              "color": "#C8D4E3"
             },
             "line": {
              "color": "white"
             }
            },
            "type": "table"
           }
          ]
         },
         "layout": {
          "annotationdefaults": {
           "arrowcolor": "#2a3f5f",
           "arrowhead": 0,
           "arrowwidth": 1
          },
          "autotypenumbers": "strict",
          "coloraxis": {
           "colorbar": {
            "outlinewidth": 0,
            "ticks": ""
           }
          },
          "colorscale": {
           "diverging": [
            [
             0,
             "#8e0152"
            ],
            [
             0.1,
             "#c51b7d"
            ],
            [
             0.2,
             "#de77ae"
            ],
            [
             0.3,
             "#f1b6da"
            ],
            [
             0.4,
             "#fde0ef"
            ],
            [
             0.5,
             "#f7f7f7"
            ],
            [
             0.6,
             "#e6f5d0"
            ],
            [
             0.7,
             "#b8e186"
            ],
            [
             0.8,
             "#7fbc41"
            ],
            [
             0.9,
             "#4d9221"
            ],
            [
             1,
             "#276419"
            ]
           ],
           "sequential": [
            [
             0,
             "#0d0887"
            ],
            [
             0.1111111111111111,
             "#46039f"
            ],
            [
             0.2222222222222222,
             "#7201a8"
            ],
            [
             0.3333333333333333,
             "#9c179e"
            ],
            [
             0.4444444444444444,
             "#bd3786"
            ],
            [
             0.5555555555555556,
             "#d8576b"
            ],
            [
             0.6666666666666666,
             "#ed7953"
            ],
            [
             0.7777777777777778,
             "#fb9f3a"
            ],
            [
             0.8888888888888888,
             "#fdca26"
            ],
            [
             1,
             "#f0f921"
            ]
           ],
           "sequentialminus": [
            [
             0,
             "#0d0887"
            ],
            [
             0.1111111111111111,
             "#46039f"
            ],
            [
             0.2222222222222222,
             "#7201a8"
            ],
            [
             0.3333333333333333,
             "#9c179e"
            ],
            [
             0.4444444444444444,
             "#bd3786"
            ],
            [
             0.5555555555555556,
             "#d8576b"
            ],
            [
             0.6666666666666666,
             "#ed7953"
            ],
            [
             0.7777777777777778,
             "#fb9f3a"
            ],
            [
             0.8888888888888888,
             "#fdca26"
            ],
            [
             1,
             "#f0f921"
            ]
           ]
          },
          "colorway": [
           "#636efa",
           "#EF553B",
           "#00cc96",
           "#ab63fa",
           "#FFA15A",
           "#19d3f3",
           "#FF6692",
           "#B6E880",
           "#FF97FF",
           "#FECB52"
          ],
          "font": {
           "color": "#2a3f5f"
          },
          "geo": {
           "bgcolor": "white",
           "lakecolor": "white",
           "landcolor": "#E5ECF6",
           "showlakes": true,
           "showland": true,
           "subunitcolor": "white"
          },
          "hoverlabel": {
           "align": "left"
          },
          "hovermode": "closest",
          "mapbox": {
           "style": "light"
          },
          "paper_bgcolor": "white",
          "plot_bgcolor": "#E5ECF6",
          "polar": {
           "angularaxis": {
            "gridcolor": "white",
            "linecolor": "white",
            "ticks": ""
           },
           "bgcolor": "#E5ECF6",
           "radialaxis": {
            "gridcolor": "white",
            "linecolor": "white",
            "ticks": ""
           }
          },
          "scene": {
           "xaxis": {
            "backgroundcolor": "#E5ECF6",
            "gridcolor": "white",
            "gridwidth": 2,
            "linecolor": "white",
            "showbackground": true,
            "ticks": "",
            "zerolinecolor": "white"
           },
           "yaxis": {
            "backgroundcolor": "#E5ECF6",
            "gridcolor": "white",
            "gridwidth": 2,
            "linecolor": "white",
            "showbackground": true,
            "ticks": "",
            "zerolinecolor": "white"
           },
           "zaxis": {
            "backgroundcolor": "#E5ECF6",
            "gridcolor": "white",
            "gridwidth": 2,
            "linecolor": "white",
            "showbackground": true,
            "ticks": "",
            "zerolinecolor": "white"
           }
          },
          "shapedefaults": {
           "line": {
            "color": "#2a3f5f"
           }
          },
          "ternary": {
           "aaxis": {
            "gridcolor": "white",
            "linecolor": "white",
            "ticks": ""
           },
           "baxis": {
            "gridcolor": "white",
            "linecolor": "white",
            "ticks": ""
           },
           "bgcolor": "#E5ECF6",
           "caxis": {
            "gridcolor": "white",
            "linecolor": "white",
            "ticks": ""
           }
          },
          "title": {
           "x": 0.05
          },
          "xaxis": {
           "automargin": true,
           "gridcolor": "white",
           "linecolor": "white",
           "ticks": "",
           "title": {
            "standoff": 15
           },
           "zerolinecolor": "white",
           "zerolinewidth": 2
          },
          "yaxis": {
           "automargin": true,
           "gridcolor": "white",
           "linecolor": "white",
           "ticks": "",
           "title": {
            "standoff": 15
           },
           "zerolinecolor": "white",
           "zerolinewidth": 2
          }
         }
        },
        "title": {
         "text": "Stock Prices "
        },
        "xaxis": {
         "autorange": true,
         "range": [
          "2022-10-10",
          "2023-10-09"
         ],
         "title": {
          "font": {
           "color": "#7f7f7f",
           "family": "Courier New, monospace",
           "size": 18
          },
          "text": "Date"
         },
         "type": "date"
        },
        "yaxis": {
         "autorange": true,
         "range": [
          3037.950046115451,
          3669.950100368924
         ],
         "title": {
          "font": {
           "color": "#7f7f7f",
           "family": "Courier New, monospace",
           "size": 18
          },
          "text": "Price"
         },
         "type": "linear"
        }
       }
      },
      "image/png": "[encoded data removed]",
      "text/html": [
       "<div>                            <div id=\"bebe760b-5696-4aee-a6ce-623ea80c505c\" class=\"plotly-graph-div\" style=\"height:525px; width:100%;\"></div>            <script type=\"text/javascript\">                require([\"plotly\"], function(Plotly) {                    window.PLOTLYENV=window.PLOTLYENV || {};                                    if (document.getElementById(\"bebe760b-5696-4aee-a6ce-623ea80c505c\")) {                    Plotly.newPlot(                        \"bebe760b-5696-4aee-a6ce-623ea80c505c\",                        [{\"x\":[\"2022-10-10T00:00:00\",\"2022-10-11T00:00:00\",\"2022-10-12T00:00:00\",\"2022-10-13T00:00:00\",\"2022-10-14T00:00:00\",\"2022-10-17T00:00:00\",\"2022-10-18T00:00:00\",\"2022-10-19T00:00:00\",\"2022-10-20T00:00:00\",\"2022-10-21T00:00:00\",\"2022-10-24T00:00:00\",\"2022-10-25T00:00:00\",\"2022-10-27T00:00:00\",\"2022-10-28T00:00:00\",\"2022-10-31T00:00:00\",\"2022-11-01T00:00:00\",\"2022-11-02T00:00:00\",\"2022-11-03T00:00:00\",\"2022-11-04T00:00:00\",\"2022-11-07T00:00:00\",\"2022-11-09T00:00:00\",\"2022-11-10T00:00:00\",\"2022-11-11T00:00:00\",\"2022-11-14T00:00:00\",\"2022-11-15T00:00:00\",\"2022-11-16T00:00:00\",\"2022-11-17T00:00:00\",\"2022-11-18T00:00:00\",\"2022-11-21T00:00:00\",\"2022-11-22T00:00:00\",\"2022-11-23T00:00:00\",\"2022-11-24T00:00:00\",\"2022-11-25T00:00:00\",\"2022-11-28T00:00:00\",\"2022-11-29T00:00:00\",\"2022-11-30T00:00:00\",\"2022-12-01T00:00:00\",\"2022-12-02T00:00:00\",\"2022-12-05T00:00:00\",\"2022-12-06T00:00:00\",\"2022-12-07T00:00:00\",\"2022-12-08T00:00:00\",\"2022-12-09T00:00:00\",\"2022-12-12T00:00:00\",\"2022-12-13T00:00:00\",\"2022-12-14T00:00:00\",\"2022-12-15T00:00:00\",\"2022-12-16T00:00:00\",\"2022-12-19T00:00:00\",\"2022-12-20T00:00:00\",\"2022-12-21T00:00:00\",\"2022-12-22T00:00:00\",\"2022-12-23T00:00:00\",\"2022-12-26T00:00:00\",\"2022-12-27T00:00:00\",\"2022-12-28T00:00:00\",\"2022-12-29T00:00:00\",\"2022-12-30T00:00:00\",\"2023-01-02T00:00:00\",\"2023-01-03T00:00:00\",\"2023-01-04T00:00:00\",\"2023-01-05T00:00:00\",\"2023-01-06T00:00:00\",\"2023-01-09T00:00:00\",\"2023-01-10T00:00:00\",\"2023-01-11T00:00:00\",\"2023-01-12T00:00:00\",\"2023-01-13T00:00:00\",\"2023-01-16T00:00:00\",\"2023-01-17T00:00:00\",\"2023-01-18T00:00:00\",\"2023-01-19T00:00:00\",\"2023-01-20T00:00:00\",\"2023-01-23T00:00:00\",\"2023-01-24T00:00:00\",\"2023-01-25T00:00:00\",\"2023-01-27T00:00:00\",\"2023-01-30T00:00:00\",\"2023-01-31T00:00:00\",\"2023-02-01T00:00:00\",\"2023-02-02T00:00:00\",\"2023-02-03T00:00:00\",\"2023-02-06T00:00:00\",\"2023-02-07T00:00:00\",\"2023-02-08T00:00:00\",\"2023-02-09T00:00:00\",\"2023-02-10T00:00:00\",\"2023-02-13T00:00:00\",\"2023-02-14T00:00:00\",\"2023-02-15T00:00:00\",\"2023-02-16T00:00:00\",\"2023-02-17T00:00:00\",\"2023-02-20T00:00:00\",\"2023-02-21T00:00:00\",\"2023-02-22T00:00:00\",\"2023-02-23T00:00:00\",\"2023-02-24T00:00:00\",\"2023-02-27T00:00:00\",\"2023-02-28T00:00:00\",\"2023-03-01T00:00:00\",\"2023-03-02T00:00:00\",\"2023-03-03T00:00:00\",\"2023-03-06T00:00:00\",\"2023-03-08T00:00:00\",\"2023-03-09T00:00:00\",\"2023-03-10T00:00:00\",\"2023-03-13T00:00:00\",\"2023-03-14T00:00:00\",\"2023-03-15T00:00:00\",\"2023-03-16T00:00:00\",\"2023-03-17T00:00:00\",\"2023-03-20T00:00:00\",\"2023-03-21T00:00:00\",\"2023-03-22T00:00:00\",\"2023-03-23T00:00:00\",\"2023-03-24T00:00:00\",\"2023-03-27T00:00:00\",\"2023-03-28T00:00:00\",\"2023-03-29T00:00:00\",\"2023-03-31T00:00:00\",\"2023-04-03T00:00:00\",\"2023-04-05T00:00:00\",\"2023-04-06T00:00:00\",\"2023-04-10T00:00:00\",\"2023-04-11T00:00:00\",\"2023-04-12T00:00:00\",\"2023-04-13T00:00:00\",\"2023-04-17T00:00:00\",\"2023-04-18T00:00:00\",\"2023-04-19T00:00:00\",\"2023-04-20T00:00:00\",\"2023-04-21T00:00:00\",\"2023-04-24T00:00:00\",\"2023-04-25T00:00:00\",\"2023-04-26T00:00:00\",\"2023-04-27T00:00:00\",\"2023-04-28T00:00:00\",\"2023-05-02T00:00:00\",\"2023-05-03T00:00:00\",\"2023-05-04T00:00:00\",\"2023-05-05T00:00:00\",\"2023-05-08T00:00:00\",\"2023-05-09T00:00:00\",\"2023-05-10T00:00:00\",\"2023-05-11T00:00:00\",\"2023-05-12T00:00:00\",\"2023-05-15T00:00:00\",\"2023-05-16T00:00:00\",\"2023-05-17T00:00:00\",\"2023-05-18T00:00:00\",\"2023-05-19T00:00:00\",\"2023-05-22T00:00:00\",\"2023-05-23T00:00:00\",\"2023-05-24T00:00:00\",\"2023-05-25T00:00:00\",\"2023-05-26T00:00:00\",\"2023-05-29T00:00:00\",\"2023-05-30T00:00:00\",\"2023-05-31T00:00:00\",\"2023-06-01T00:00:00\",\"2023-06-02T00:00:00\",\"2023-06-05T00:00:00\",\"2023-06-06T00:00:00\",\"2023-06-07T00:00:00\",\"2023-06-08T00:00:00\",\"2023-06-09T00:00:00\",\"2023-06-12T00:00:00\",\"2023-06-13T00:00:00\",\"2023-06-14T00:00:00\",\"2023-06-15T00:00:00\",\"2023-06-16T00:00:00\",\"2023-06-19T00:00:00\",\"2023-06-20T00:00:00\",\"2023-06-21T00:00:00\",\"2023-06-22T00:00:00\",\"2023-06-23T00:00:00\",\"2023-06-26T00:00:00\",\"2023-06-27T00:00:00\",\"2023-06-28T00:00:00\",\"2023-06-30T00:00:00\",\"2023-07-03T00:00:00\",\"2023-07-04T00:00:00\",\"2023-07-05T00:00:00\",\"2023-07-06T00:00:00\",\"2023-07-07T00:00:00\",\"2023-07-10T00:00:00\",\"2023-07-11T00:00:00\",\"2023-07-12T00:00:00\",\"2023-07-13T00:00:00\",\"2023-07-14T00:00:00\",\"2023-07-17T00:00:00\",\"2023-07-18T00:00:00\",\"2023-07-19T00:00:00\",\"2023-07-20T00:00:00\",\"2023-07-21T00:00:00\",\"2023-07-24T00:00:00\",\"2023-07-25T00:00:00\",\"2023-07-26T00:00:00\",\"2023-07-27T00:00:00\",\"2023-07-28T00:00:00\",\"2023-07-31T00:00:00\",\"2023-08-01T00:00:00\",\"2023-08-02T00:00:00\",\"2023-08-03T00:00:00\",\"2023-08-04T00:00:00\",\"2023-08-07T00:00:00\",\"2023-08-08T00:00:00\",\"2023-08-09T00:00:00\",\"2023-08-10T00:00:00\",\"2023-08-11T00:00:00\",\"2023-08-14T00:00:00\",\"2023-08-16T00:00:00\",\"2023-08-17T00:00:00\",\"2023-08-18T00:00:00\",\"2023-08-21T00:00:00\",\"2023-08-22T00:00:00\",\"2023-08-23T00:00:00\",\"2023-08-24T00:00:00\",\"2023-08-25T00:00:00\",\"2023-08-28T00:00:00\",\"2023-08-29T00:00:00\",\"2023-08-30T00:00:00\",\"2023-08-31T00:00:00\",\"2023-09-01T00:00:00\",\"2023-09-04T00:00:00\",\"2023-09-05T00:00:00\",\"2023-09-06T00:00:00\",\"2023-09-07T00:00:00\",\"2023-09-08T00:00:00\",\"2023-09-11T00:00:00\",\"2023-09-12T00:00:00\",\"2023-09-13T00:00:00\",\"2023-09-14T00:00:00\",\"2023-09-15T00:00:00\",\"2023-09-18T00:00:00\",\"2023-09-20T00:00:00\",\"2023-09-21T00:00:00\",\"2023-09-22T00:00:00\",\"2023-09-25T00:00:00\",\"2023-09-26T00:00:00\",\"2023-09-27T00:00:00\",\"2023-09-28T00:00:00\",\"2023-09-29T00:00:00\",\"2023-10-03T00:00:00\",\"2023-10-04T00:00:00\",\"2023-10-05T00:00:00\",\"2023-10-06T00:00:00\",\"2023-10-09T00:00:00\"],\"y\":[3118.550048828125,3069.550048828125,3100.75,3103.300048828125,3099.14990234375,3111.75,3144.699951171875,3121.85009765625,3157.300048828125,3137.39990234375,3161.699951171875,3162.10009765625,3157.39990234375,3163.25,3193.14990234375,3259.699951171875,3241.699951171875,3206.75,3217.39990234375,3233.699951171875,3216.050048828125,3205.64990234375,3315.949951171875,3335.5,3332.60009765625,3355.35009765625,3349.0,3343.449951171875,3283.5,3314.949951171875,3308.300048828125,3380.14990234375,3389.64990234375,3395.25,3397.35009765625,3390.800048828125,3475.64990234375,3439.14990234375,3425.89990234375,3385.35009765625,3380.60009765625,3350.550048828125,3292.75,3286.449951171875,3332.10009765625,3365.35009765625,3305.10009765625,3240.25,3202.050048828125,3243.949951171875,3268.550048828125,3259.699951171875,3228.35009765625,3252.89990234375,3259.5,3257.10009765625,3268.75,3256.699951171875,3261.449951171875,3311.35009765625,3314.64990234375,3311.10009765625,3211.550048828125,3319.949951171875,3286.39990234375,3328.699951171875,3334.35009765625,3374.550048828125,3334.050048828125,3378.39990234375,3390.0,3373.10009765625,3363.10009765625,3414.89990234375,3436.300048828125,3429.75,3411.050048828125,3433.64990234375,3358.699951171875,3408.35009765625,3460.39990234375,3482.300048828125,3459.949951171875,3472.550048828125,3520.10009765625,3540.85009765625,3537.550048828125,3482.39990234375,3500.10009765625,3520.64990234375,3558.050048828125,3501.14990234375,3487.300048828125,3451.0,3401.550048828125,3413.800048828125,3400.449951171875,3331.85009765625,3312.85009765625,3385.699951171875,3321.449951171875,3342.14990234375,3371.85009765625,3390.39990234375,3336.85009765625,3331.0,3281.949951171875,3214.949951171875,3198.89990234375,3185.0,3179.300048828125,3143.300048828125,3106.10009765625,3130.800048828125,3124.64990234375,3120.5,3122.300048828125,3115.89990234375,3138.89990234375,3205.89990234375,3200.0,3239.800048828125,3220.699951171875,3263.39990234375,3213.800048828125,3241.64990234375,3188.85009765625,3139.5,3130.75,3089.60009765625,3104.800048828125,3160.85009765625,3174.800048828125,3176.0,3198.14990234375,3187.949951171875,3219.25,3219.39990234375,3179.89990234375,3220.699951171875,3230.699951171875,3250.60009765625,3283.25,3286.800048828125,3282.14990234375,3274.300048828125,3255.050048828125,3258.14990234375,3208.699951171875,3199.85009765625,3222.85009765625,3298.699951171875,3297.050048828125,3303.35009765625,3293.5,3328.89990234375,3320.35009765625,3316.199951171875,3289.5,3324.0,3305.60009765625,3288.89990234375,3232.300048828125,3274.89990234375,3236.449951171875,3209.300048828125,3246.89990234375,3243.699951171875,3251.050048828125,3216.300048828125,3174.89990234375,3210.39990234375,3227.699951171875,3258.199951171875,3238.5,3216.35009765625,3189.64990234375,3197.35009765625,3197.35009765625,3302.25,3272.300048828125,3308.85009765625,3319.949951171875,3322.89990234375,3329.25,3271.949951171875,3272.39990234375,3259.89990234375,3340.550048828125,3514.64990234375,3491.699951171875,3496.85009765625,3470.050048828125,3463.300048828125,3368.300048828125,3394.75,3399.14990234375,3388.300048828125,3396.89990234375,3355.39990234375,3421.449951171875,3452.050048828125,3440.64990234375,3399.949951171875,3443.550048828125,3484.050048828125,3470.60009765625,3462.5,3442.10009765625,3448.800048828125,3449.85009765625,3458.39990234375,3435.75,3367.10009765625,3401.64990234375,3382.14990234375,3398.25,3387.75,3381.300048828125,3375.550048828125,3376.14990234375,3390.949951171875,3356.800048828125,3379.199951171875,3418.5,3429.35009765625,3429.89990234375,3455.25,3441.89990234375,3480.64990234375,3580.800048828125,3567.85009765625,3560.050048828125,3598.300048828125,3606.14990234375,3606.050048828125,3585.300048828125,3603.64990234375,3577.14990234375,3585.699951171875,3589.300048828125,3536.75,3528.60009765625,3513.85009765625,3537.75,3589.35009765625,3621.39990234375,3638.35009765625],\"type\":\"scatter\"}],                        {\"template\":{\"data\":{\"barpolar\":[{\"marker\":{\"line\":{\"color\":\"#E5ECF6\",\"width\":0.5},\"pattern\":{\"fillmode\":\"overlay\",\"size\":10,\"solidity\":0.2}},\"type\":\"barpolar\"}],\"bar\":[{\"error_x\":{\"color\":\"#2a3f5f\"},\"error_y\":{\"color\":\"#2a3f5f\"},\"marker\":{\"line\":{\"color\":\"#E5ECF6\",\"width\":0.5},\"pattern\":{\"fillmode\":\"overlay\",\"size\":10,\"solidity\":0.2}},\"type\":\"bar\"}],\"carpet\":[{\"aaxis\":{\"endlinecolor\":\"#2a3f5f\",\"gridcolor\":\"white\",\"linecolor\":\"white\",\"minorgridcolor\":\"white\",\"startlinecolor\":\"#2a3f5f\"},\"baxis\":{\"endlinecolor\":\"#2a3f5f\",\"gridcolor\":\"white\",\"linecolor\":\"white\",\"minorgridcolor\":\"white\",\"startlinecolor\":\"#2a3f5f\"},\"type\":\"carpet\"}],\"choropleth\":[{\"colorbar\":{\"outlinewidth\":0,\"ticks\":\"\"},\"type\":\"choropleth\"}],\"contourcarpet\":[{\"colorbar\":{\"outlinewidth\":0,\"ticks\":\"\"},\"type\":\"contourcarpet\"}],\"contour\":[{\"colorbar\":{\"outlinewidth\":0,\"ticks\":\"\"},\"colorscale\":[[0.0,\"#0d0887\"],[0.1111111111111111,\"#46039f\"],[0.2222222222222222,\"#7201a8\"],[0.3333333333333333,\"#9c179e\"],[0.4444444444444444,\"#bd3786\"],[0.5555555555555556,\"#d8576b\"],[0.6666666666666666,\"#ed7953\"],[0.7777777777777778,\"#fb9f3a\"],[0.8888888888888888,\"#fdca26\"],[1.0,\"#f0f921\"]],\"type\":\"contour\"}],\"heatmapgl\":[{\"colorbar\":{\"outlinewidth\":0,\"ticks\":\"\"},\"colorscale\":[[0.0,\"#0d0887\"],[0.1111111111111111,\"#46039f\"],[0.2222222222222222,\"#7201a8\"],[0.3333333333333333,\"#9c179e\"],[0.4444444444444444,\"#bd3786\"],[0.5555555555555556,\"#d8576b\"],[0.6666666666666666,\"#ed7953\"],[0.7777777777777778,\"#fb9f3a\"],[0.8888888888888888,\"#fdca26\"],[1.0,\"#f0f921\"]],\"type\":\"heatmapgl\"}],\"heatmap\":[{\"colorbar\":{\"outlinewidth\":0,\"ticks\":\"\"},\"colorscale\":[[0.0,\"#0d0887\"],[0.1111111111111111,\"#46039f\"],[0.2222222222222222,\"#7201a8\"],[0.3333333333333333,\"#9c179e\"],[0.4444444444444444,\"#bd3786\"],[0.5555555555555556,\"#d8576b\"],[0.6666666666666666,\"#ed7953\"],[0.7777777777777778,\"#fb9f3a\"],[0.8888888888888888,\"#fdca26\"],[1.0,\"#f0f921\"]],\"type\":\"heatmap\"}],\"histogram2dcontour\":[{\"colorbar\":{\"outlinewidth\":0,\"ticks\":\"\"},\"colorscale\":[[0.0,\"#0d0887\"],[0.1111111111111111,\"#46039f\"],[0.2222222222222222,\"#7201a8\"],[0.3333333333333333,\"#9c179e\"],[0.4444444444444444,\"#bd3786\"],[0.5555555555555556,\"#d8576b\"],[0.6666666666666666,\"#ed7953\"],[0.7777777777777778,\"#fb9f3a\"],[0.8888888888888888,\"#fdca26\"],[1.0,\"#f0f921\"]],\"type\":\"histogram2dcontour\"}],\"histogram2d\":[{\"colorbar\":{\"outlinewidth\":0,\"ticks\":\"\"},\"colorscale\":[[0.0,\"#0d0887\"],[0.1111111111111111,\"#46039f\"],[0.2222222222222222,\"#7201a8\"],[0.3333333333333333,\"#9c179e\"],[0.4444444444444444,\"#bd3786\"],[0.5555555555555556,\"#d8576b\"],[0.6666666666666666,\"#ed7953\"],[0.7777777777777778,\"#fb9f3a\"],[0.8888888888888888,\"#fdca26\"],[1.0,\"#f0f921\"]],\"type\":\"histogram2d\"}],\"histogram\":[{\"marker\":{\"pattern\":{\"fillmode\":\"overlay\",\"size\":10,\"solidity\":0.2}},\"type\":\"histogram\"}],\"mesh3d\":[{\"colorbar\":{\"outlinewidth\":0,\"ticks\":\"\"},\"type\":\"mesh3d\"}],\"parcoords\":[{\"line\":{\"colorbar\":{\"outlinewidth\":0,\"ticks\":\"\"}},\"type\":\"parcoords\"}],\"pie\":[{\"automargin\":true,\"type\":\"pie\"}],\"scatter3d\":[{\"line\":{\"colorbar\":{\"outlinewidth\":0,\"ticks\":\"\"}},\"marker\":{\"colorbar\":{\"outlinewidth\":0,\"ticks\":\"\"}},\"type\":\"scatter3d\"}],\"scattercarpet\":[{\"marker\":{\"colorbar\":{\"outlinewidth\":0,\"ticks\":\"\"}},\"type\":\"scattercarpet\"}],\"scattergeo\":[{\"marker\":{\"colorbar\":{\"outlinewidth\":0,\"ticks\":\"\"}},\"type\":\"scattergeo\"}],\"scattergl\":[{\"marker\":{\"colorbar\":{\"outlinewidth\":0,\"ticks\":\"\"}},\"type\":\"scattergl\"}],\"scattermapbox\":[{\"marker\":{\"colorbar\":{\"outlinewidth\":0,\"ticks\":\"\"}},\"type\":\"scattermapbox\"}],\"scatterpolargl\":[{\"marker\":{\"colorbar\":{\"outlinewidth\":0,\"ticks\":\"\"}},\"type\":\"scatterpolargl\"}],\"scatterpolar\":[{\"marker\":{\"colorbar\":{\"outlinewidth\":0,\"ticks\":\"\"}},\"type\":\"scatterpolar\"}],\"scatter\":[{\"fillpattern\":{\"fillmode\":\"overlay\",\"size\":10,\"solidity\":0.2},\"type\":\"scatter\"}],\"scatterternary\":[{\"marker\":{\"colorbar\":{\"outlinewidth\":0,\"ticks\":\"\"}},\"type\":\"scatterternary\"}],\"surface\":[{\"colorbar\":{\"outlinewidth\":0,\"ticks\":\"\"},\"colorscale\":[[0.0,\"#0d0887\"],[0.1111111111111111,\"#46039f\"],[0.2222222222222222,\"#7201a8\"],[0.3333333333333333,\"#9c179e\"],[0.4444444444444444,\"#bd3786\"],[0.5555555555555556,\"#d8576b\"],[0.6666666666666666,\"#ed7953\"],[0.7777777777777778,\"#fb9f3a\"],[0.8888888888888888,\"#fdca26\"],[1.0,\"#f0f921\"]],\"type\":\"surface\"}],\"table\":[{\"cells\":{\"fill\":{\"color\":\"#EBF0F8\"},\"line\":{\"color\":\"white\"}},\"header\":{\"fill\":{\"color\":\"#C8D4E3\"},\"line\":{\"color\":\"white\"}},\"type\":\"table\"}]},\"layout\":{\"annotationdefaults\":{\"arrowcolor\":\"#2a3f5f\",\"arrowhead\":0,\"arrowwidth\":1},\"autotypenumbers\":\"strict\",\"coloraxis\":{\"colorbar\":{\"outlinewidth\":0,\"ticks\":\"\"}},\"colorscale\":{\"diverging\":[[0,\"#8e0152\"],[0.1,\"#c51b7d\"],[0.2,\"#de77ae\"],[0.3,\"#f1b6da\"],[0.4,\"#fde0ef\"],[0.5,\"#f7f7f7\"],[0.6,\"#e6f5d0\"],[0.7,\"#b8e186\"],[0.8,\"#7fbc41\"],[0.9,\"#4d9221\"],[1,\"#276419\"]],\"sequential\":[[0.0,\"#0d0887\"],[0.1111111111111111,\"#46039f\"],[0.2222222222222222,\"#7201a8\"],[0.3333333333333333,\"#9c179e\"],[0.4444444444444444,\"#bd3786\"],[0.5555555555555556,\"#d8576b\"],[0.6666666666666666,\"#ed7953\"],[0.7777777777777778,\"#fb9f3a\"],[0.8888888888888888,\"#fdca26\"],[1.0,\"#f0f921\"]],\"sequentialminus\":[[0.0,\"#0d0887\"],[0.1111111111111111,\"#46039f\"],[0.2222222222222222,\"#7201a8\"],[0.3333333333333333,\"#9c179e\"],[0.4444444444444444,\"#bd3786\"],[0.5555555555555556,\"#d8576b\"],[0.6666666666666666,\"#ed7953\"],[0.7777777777777778,\"#fb9f3a\"],[0.8888888888888888,\"#fdca26\"],[1.0,\"#f0f921\"]]},\"colorway\":[\"#636efa\",\"#EF553B\",\"#00cc96\",\"#ab63fa\",\"#FFA15A\",\"#19d3f3\",\"#FF6692\",\"#B6E880\",\"#FF97FF\",\"#FECB52\"],\"font\":{\"color\":\"#2a3f5f\"},\"geo\":{\"bgcolor\":\"white\",\"lakecolor\":\"white\",\"landcolor\":\"#E5ECF6\",\"showlakes\":true,\"showland\":true,\"subunitcolor\":\"white\"},\"hoverlabel\":{\"align\":\"left\"},\"hovermode\":\"closest\",\"mapbox\":{\"style\":\"light\"},\"paper_bgcolor\":\"white\",\"plot_bgcolor\":\"#E5ECF6\",\"polar\":{\"angularaxis\":{\"gridcolor\":\"white\",\"linecolor\":\"white\",\"ticks\":\"\"},\"bgcolor\":\"#E5ECF6\",\"radialaxis\":{\"gridcolor\":\"white\",\"linecolor\":\"white\",\"ticks\":\"\"}},\"scene\":{\"xaxis\":{\"backgroundcolor\":\"#E5ECF6\",\"gridcolor\":\"white\",\"gridwidth\":2,\"linecolor\":\"white\",\"showbackground\":true,\"ticks\":\"\",\"zerolinecolor\":\"white\"},\"yaxis\":{\"backgroundcolor\":\"#E5ECF6\",\"gridcolor\":\"white\",\"gridwidth\":2,\"linecolor\":\"white\",\"showbackground\":true,\"ticks\":\"\",\"zerolinecolor\":\"white\"},\"zaxis\":{\"backgroundcolor\":\"#E5ECF6\",\"gridcolor\":\"white\",\"gridwidth\":2,\"linecolor\":\"white\",\"showbackground\":true,\"ticks\":\"\",\"zerolinecolor\":\"white\"}},\"shapedefaults\":{\"line\":{\"color\":\"#2a3f5f\"}},\"ternary\":{\"aaxis\":{\"gridcolor\":\"white\",\"linecolor\":\"white\",\"ticks\":\"\"},\"baxis\":{\"gridcolor\":\"white\",\"linecolor\":\"white\",\"ticks\":\"\"},\"bgcolor\":\"#E5ECF6\",\"caxis\":{\"gridcolor\":\"white\",\"linecolor\":\"white\",\"ticks\":\"\"}},\"title\":{\"x\":0.05},\"xaxis\":{\"automargin\":true,\"gridcolor\":\"white\",\"linecolor\":\"white\",\"ticks\":\"\",\"title\":{\"standoff\":15},\"zerolinecolor\":\"white\",\"zerolinewidth\":2},\"yaxis\":{\"automargin\":true,\"gridcolor\":\"white\",\"linecolor\":\"white\",\"ticks\":\"\",\"title\":{\"standoff\":15},\"zerolinecolor\":\"white\",\"zerolinewidth\":2}}},\"title\":{\"text\":\"Stock Prices \"},\"xaxis\":{\"title\":{\"font\":{\"color\":\"#7f7f7f\",\"family\":\"Courier New, monospace\",\"size\":18},\"text\":\"Date\"}},\"yaxis\":{\"title\":{\"font\":{\"color\":\"#7f7f7f\",\"family\":\"Courier New, monospace\",\"size\":18},\"text\":\"Price\"}}},                        {\"responsive\": true}                    ).then(function(){\n",
       "                            \n",
       "var gd = document.getElementById('bebe760b-5696-4aee-a6ce-623ea80c505c');\n",
       "var x = new MutationObserver(function (mutations, observer) {{\n",
       "        var display = window.getComputedStyle(gd).display;\n",
       "        if (!display || display === 'none') {{\n",
       "            console.log([gd, 'removed!']);\n",
       "            Plotly.purge(gd);\n",
       "            observer.disconnect();\n",
       "        }}\n",
       "}});\n",
       "\n",
       "// Listen for the removal of the full notebook cells\n",
       "var notebookContainer = gd.closest('#notebook-container');\n",
       "if (notebookContainer) {{\n",
       "    x.observe(notebookContainer, {childList: true});\n",
       "}}\n",
       "\n",
       "// Listen for the clearing of the current output cell\n",
       "var outputEl = gd.closest('.output');\n",
       "if (outputEl) {{\n",
       "    x.observe(outputEl, {childList: true});\n",
       "}}\n",
       "\n",
       "                        })                };                });            </script>        </div>"
      ]
     },
     "metadata": {},
     "output_type": "display_data"
    }
   ],
   "source": [
    "iplot(plot)"
   ]
  },
  {
   "cell_type": "code",
   "execution_count": 100,
   "id": "49d84898-f12a-49b8-b269-023a3eceeeee",
   "metadata": {},
   "outputs": [],
   "source": [
    "#Building Linear Regression Model\n",
    "from sklearn.model_selection import train_test_split\n",
    "\n",
    "#for preprocessing\n",
    "from sklearn.preprocessing import MinMaxScaler\n",
    "from sklearn.preprocessing import StandardScaler\n",
    "\n",
    "#for model evaluation\n",
    "from sklearn.metrics import mean_squared_error as mse\n",
    "from sklearn.metrics import r2_score\n"
   ]
  },
  {
   "cell_type": "code",
   "execution_count": 101,
   "id": "0f123624-fecd-494b-b6b6-d2285547fa59",
   "metadata": {},
   "outputs": [],
   "source": [
    "#Split the data into train and test sets \n",
    "X = np.array(stock.index).reshape(-1,1)\n",
    "Y = stock['Close']\n",
    "X_train, X_test, Y_train, Y_test = train_test_split(X, Y, test_size=0.3, random_state=101)"
   ]
  },
  {
   "cell_type": "code",
   "execution_count": 102,
   "id": "0323b707-a79d-4a99-8dfe-20022c3fdb06",
   "metadata": {},
   "outputs": [],
   "source": [
    "#Feature  Scaling \n",
    "scaler = StandardScaler().fit(X_train)"
   ]
  },
  {
   "cell_type": "code",
   "execution_count": 103,
   "id": "689e0965-a0c0-4acf-8d44-ce9c4433c23f",
   "metadata": {},
   "outputs": [],
   "source": [
    "from sklearn.linear_model import LinearRegression"
   ]
  },
  {
   "cell_type": "code",
   "execution_count": 104,
   "id": "ce0934de-58fc-405d-b3d6-e79b04acbbf4",
   "metadata": {},
   "outputs": [
    {
     "data": {
      "text/html": [
       "<style>#sk-container-id-5 {color: black;}#sk-container-id-5 pre{padding: 0;}#sk-container-id-5 div.sk-toggleable {background-color: white;}#sk-container-id-5 label.sk-toggleable__label {cursor: pointer;display: block;width: 100%;margin-bottom: 0;padding: 0.3em;box-sizing: border-box;text-align: center;}#sk-container-id-5 label.sk-toggleable__label-arrow:before {content: \"▸\";float: left;margin-right: 0.25em;color: #696969;}#sk-container-id-5 label.sk-toggleable__label-arrow:hover:before {color: black;}#sk-container-id-5 div.sk-estimator:hover label.sk-toggleable__label-arrow:before {color: black;}#sk-container-id-5 div.sk-toggleable__content {max-height: 0;max-width: 0;overflow: hidden;text-align: left;background-color: #f0f8ff;}#sk-container-id-5 div.sk-toggleable__content pre {margin: 0.2em;color: black;border-radius: 0.25em;background-color: #f0f8ff;}#sk-container-id-5 input.sk-toggleable__control:checked~div.sk-toggleable__content {max-height: 200px;max-width: 100%;overflow: auto;}#sk-container-id-5 input.sk-toggleable__control:checked~label.sk-toggleable__label-arrow:before {content: \"▾\";}#sk-container-id-5 div.sk-estimator input.sk-toggleable__control:checked~label.sk-toggleable__label {background-color: #d4ebff;}#sk-container-id-5 div.sk-label input.sk-toggleable__control:checked~label.sk-toggleable__label {background-color: #d4ebff;}#sk-container-id-5 input.sk-hidden--visually {border: 0;clip: rect(1px 1px 1px 1px);clip: rect(1px, 1px, 1px, 1px);height: 1px;margin: -1px;overflow: hidden;padding: 0;position: absolute;width: 1px;}#sk-container-id-5 div.sk-estimator {font-family: monospace;background-color: #f0f8ff;border: 1px dotted black;border-radius: 0.25em;box-sizing: border-box;margin-bottom: 0.5em;}#sk-container-id-5 div.sk-estimator:hover {background-color: #d4ebff;}#sk-container-id-5 div.sk-parallel-item::after {content: \"\";width: 100%;border-bottom: 1px solid gray;flex-grow: 1;}#sk-container-id-5 div.sk-label:hover label.sk-toggleable__label {background-color: #d4ebff;}#sk-container-id-5 div.sk-serial::before {content: \"\";position: absolute;border-left: 1px solid gray;box-sizing: border-box;top: 0;bottom: 0;left: 50%;z-index: 0;}#sk-container-id-5 div.sk-serial {display: flex;flex-direction: column;align-items: center;background-color: white;padding-right: 0.2em;padding-left: 0.2em;position: relative;}#sk-container-id-5 div.sk-item {position: relative;z-index: 1;}#sk-container-id-5 div.sk-parallel {display: flex;align-items: stretch;justify-content: center;background-color: white;position: relative;}#sk-container-id-5 div.sk-item::before, #sk-container-id-5 div.sk-parallel-item::before {content: \"\";position: absolute;border-left: 1px solid gray;box-sizing: border-box;top: 0;bottom: 0;left: 50%;z-index: -1;}#sk-container-id-5 div.sk-parallel-item {display: flex;flex-direction: column;z-index: 1;position: relative;background-color: white;}#sk-container-id-5 div.sk-parallel-item:first-child::after {align-self: flex-end;width: 50%;}#sk-container-id-5 div.sk-parallel-item:last-child::after {align-self: flex-start;width: 50%;}#sk-container-id-5 div.sk-parallel-item:only-child::after {width: 0;}#sk-container-id-5 div.sk-dashed-wrapped {border: 1px dashed gray;margin: 0 0.4em 0.5em 0.4em;box-sizing: border-box;padding-bottom: 0.4em;background-color: white;}#sk-container-id-5 div.sk-label label {font-family: monospace;font-weight: bold;display: inline-block;line-height: 1.2em;}#sk-container-id-5 div.sk-label-container {text-align: center;}#sk-container-id-5 div.sk-container {/* jupyter's `normalize.less` sets `[hidden] { display: none; }` but bootstrap.min.css set `[hidden] { display: none !important; }` so we also need the `!important` here to be able to override the default hidden behavior on the sphinx rendered scikit-learn.org. See: https://github.com/scikit-learn/scikit-learn/issues/21755 */display: inline-block !important;position: relative;}#sk-container-id-5 div.sk-text-repr-fallback {display: none;}</style><div id=\"sk-container-id-5\" class=\"sk-top-container\"><div class=\"sk-text-repr-fallback\"><pre>LinearRegression()</pre><b>In a Jupyter environment, please rerun this cell to show the HTML representation or trust the notebook. <br />On GitHub, the HTML representation is unable to render, please try loading this page with nbviewer.org.</b></div><div class=\"sk-container\" hidden><div class=\"sk-item\"><div class=\"sk-estimator sk-toggleable\"><input class=\"sk-toggleable__control sk-hidden--visually\" id=\"sk-estimator-id-5\" type=\"checkbox\" checked><label for=\"sk-estimator-id-5\" class=\"sk-toggleable__label sk-toggleable__label-arrow\">LinearRegression</label><div class=\"sk-toggleable__content\"><pre>LinearRegression()</pre></div></div></div></div></div>"
      ],
      "text/plain": [
       "LinearRegression()"
      ]
     },
     "execution_count": 104,
     "metadata": {},
     "output_type": "execute_result"
    }
   ],
   "source": [
    "#Creating a linear model\n",
    "lm = LinearRegression()\n",
    "lm.fit(X_train, Y_train)"
   ]
  },
  {
   "cell_type": "code",
   "execution_count": 108,
   "id": "199c9d75-1f24-45f7-a43a-04e9e1d4da91",
   "metadata": {},
   "outputs": [],
   "source": [
    "#Plot actual and predicted values for train dataset\n",
    "trace0 = go.Scatter(\n",
    "    x = X_train.T[0],\n",
    "    y = Y_train,\n",
    "    mode = 'markers',\n",
    "    name = 'Actual'\n",
    ")\n",
    "\n",
    "trace1 = go.Scatter(\n",
    "    x = X_train.T[0],\n",
    "    y = lm.predict(X_train).T,\n",
    "    mode = 'lines',\n",
    "    name = 'predicted'\n",
    ")\n",
    "\n",
    "stock_data = [trace0,trace1]\n",
    "layout.xaxis.title.text = 'Day'\n",
    "plot2 = go.Figure(data=stock_data,layout=layout)"
   ]
  },
  {
   "cell_type": "code",
   "execution_count": 109,
   "id": "98048401-64ce-48a1-b9e5-6d1397fbbc9e",
   "metadata": {},
   "outputs": [
    {
     "data": {
      "application/vnd.plotly.v1+json": {
       "config": {
        "linkText": "Export to plot.ly",
        "plotlyServerURL": "https://plot.ly",
        "showLink": false
       },
       "data": [
        {
         "mode": "markers",
         "name": "Actual",
         "type": "scatter",
         "x": [
          66,
          211,
          167,
          179,
          57,
          204,
          174,
          217,
          244,
          16,
          202,
          141,
          182,
          156,
          178,
          51,
          18,
          61,
          135,
          68,
          79,
          1,
          43,
          67,
          114,
          9,
          194,
          36,
          117,
          181,
          45,
          91,
          226,
          246,
          53,
          232,
          183,
          119,
          233,
          121,
          64,
          133,
          24,
          123,
          231,
          13,
          52,
          166,
          176,
          151,
          56,
          171,
          102,
          77,
          144,
          225,
          229,
          27,
          172,
          100,
          94,
          127,
          23,
          21,
          234,
          29,
          188,
          131,
          46,
          82,
          101,
          190,
          230,
          173,
          6,
          120,
          14,
          165,
          84,
          224,
          3,
          206,
          113,
          198,
          139,
          92,
          58,
          191,
          130,
          240,
          47,
          209,
          26,
          122,
          86,
          238,
          155,
          20,
          189,
          10,
          30,
          163,
          214,
          124,
          203,
          152,
          97,
          17,
          228,
          106,
          116,
          0,
          216,
          143,
          195,
          71,
          146,
          197,
          73,
          38,
          103,
          184,
          180,
          212,
          7,
          235,
          28,
          99,
          164,
          62,
          8,
          201,
          105,
          128,
          242,
          107,
          76,
          138,
          126,
          19,
          72,
          44,
          162,
          59,
          227,
          157,
          115,
          136,
          111,
          83,
          49,
          237,
          221,
          140,
          5,
          110,
          192,
          220,
          60,
          168,
          243,
          132,
          40,
          205,
          137,
          239,
          75,
          87,
          63,
          70,
          81,
          11,
          95
         ],
         "y": [
          3334.35009765625,
          3458.39990234375,
          3243.699951171875,
          3302.25,
          3256.699951171875,
          3443.550048828125,
          3238.5,
          3387.75,
          3537.75,
          3241.699951171875,
          3440.64990234375,
          3250.60009765625,
          3319.949951171875,
          3320.35009765625,
          3197.35009765625,
          3259.699951171875,
          3217.39990234375,
          3311.10009765625,
          3187.949951171875,
          3334.050048828125,
          3408.35009765625,
          3069.550048828125,
          3286.449951171875,
          3374.550048828125,
          3124.64990234375,
          3137.39990234375,
          3368.300048828125,
          3475.64990234375,
          3115.89990234375,
          3308.85009765625,
          3365.35009765625,
          3501.14990234375,
          3429.89990234375,
          3621.39990234375,
          3252.89990234375,
          3560.050048828125,
          3322.89990234375,
          3205.89990234375,
          3598.300048828125,
          3239.800048828125,
          3286.39990234375,
          3176,
          3332.60009765625,
          3263.39990234375,
          3567.85009765625,
          3163.25,
          3228.35009765625,
          3246.89990234375,
          3189.64990234375,
          3298.699951171875,
          3268.75,
          3210.39990234375,
          3371.85009765625,
          3433.64990234375,
          3282.14990234375,
          3429.35009765625,
          3480.64990234375,
          3343.449951171875,
          3227.699951171875,
          3321.449951171875,
          3401.550048828125,
          3139.5,
          3335.5,
          3205.64990234375,
          3606.14990234375,
          3314.949951171875,
          3340.550048828125,
          3160.85009765625,
          3305.10009765625,
          3459.949951171875,
          3342.14990234375,
          3491.699951171875,
          3580.800048828125,
          3258.199951171875,
          3144.699951171875,
          3200,
          3193.14990234375,
          3209.300048828125,
          3520.10009765625,
          3418.5,
          3103.300048828125,
          3470.60009765625,
          3130.800048828125,
          3396.89990234375,
          3220.699951171875,
          3487.300048828125,
          3261.449951171875,
          3496.85009765625,
          3104.800048828125,
          3589.300048828125,
          3240.25,
          3448.800048828125,
          3349,
          3220.699951171875,
          3537.550048828125,
          3577.14990234375,
          3328.89990234375,
          3216.050048828125,
          3514.64990234375,
          3161.699951171875,
          3308.300048828125,
          3274.89990234375,
          3401.64990234375,
          3213.800048828125,
          3399.949951171875,
          3297.050048828125,
          3331.85009765625,
          3206.75,
          3441.89990234375,
          3281.949951171875,
          3122.300048828125,
          3118.550048828125,
          3398.25,
          3286.800048828125,
          3394.75,
          3373.10009765625,
          3255.050048828125,
          3388.300048828125,
          3414.89990234375,
          3425.89990234375,
          3390.39990234375,
          3329.25,
          3272.300048828125,
          3435.75,
          3121.85009765625,
          3606.050048828125,
          3283.5,
          3385.699951171875,
          3236.449951171875,
          3211.550048828125,
          3157.300048828125,
          3452.050048828125,
          3331,
          3130.75,
          3528.60009765625,
          3214.949951171875,
          3411.050048828125,
          3179.89990234375,
          3188.85009765625,
          3233.699951171875,
          3363.10009765625,
          3332.10009765625,
          3232.300048828125,
          3311.35009765625,
          3455.25,
          3316.199951171875,
          3120.5,
          3219.25,
          3143.300048828125,
          3472.550048828125,
          3243.949951171875,
          3603.64990234375,
          3390.949951171875,
          3230.699951171875,
          3111.75,
          3179.300048828125,
          3470.050048828125,
          3376.14990234375,
          3314.64990234375,
          3251.050048828125,
          3513.85009765625,
          3174.800048828125,
          3380.60009765625,
          3484.050048828125,
          3219.39990234375,
          3585.699951171875,
          3429.75,
          3482.39990234375,
          3319.949951171875,
          3390,
          3482.300048828125,
          3162.10009765625,
          3413.800048828125
         ]
        },
        {
         "mode": "lines",
         "name": "predicted",
         "type": "scatter",
         "x": [
          66,
          211,
          167,
          179,
          57,
          204,
          174,
          217,
          244,
          16,
          202,
          141,
          182,
          156,
          178,
          51,
          18,
          61,
          135,
          68,
          79,
          1,
          43,
          67,
          114,
          9,
          194,
          36,
          117,
          181,
          45,
          91,
          226,
          246,
          53,
          232,
          183,
          119,
          233,
          121,
          64,
          133,
          24,
          123,
          231,
          13,
          52,
          166,
          176,
          151,
          56,
          171,
          102,
          77,
          144,
          225,
          229,
          27,
          172,
          100,
          94,
          127,
          23,
          21,
          234,
          29,
          188,
          131,
          46,
          82,
          101,
          190,
          230,
          173,
          6,
          120,
          14,
          165,
          84,
          224,
          3,
          206,
          113,
          198,
          139,
          92,
          58,
          191,
          130,
          240,
          47,
          209,
          26,
          122,
          86,
          238,
          155,
          20,
          189,
          10,
          30,
          163,
          214,
          124,
          203,
          152,
          97,
          17,
          228,
          106,
          116,
          0,
          216,
          143,
          195,
          71,
          146,
          197,
          73,
          38,
          103,
          184,
          180,
          212,
          7,
          235,
          28,
          99,
          164,
          62,
          8,
          201,
          105,
          128,
          242,
          107,
          76,
          138,
          126,
          19,
          72,
          44,
          162,
          59,
          227,
          157,
          115,
          136,
          111,
          83,
          49,
          237,
          221,
          140,
          5,
          110,
          192,
          220,
          60,
          168,
          243,
          132,
          40,
          205,
          137,
          239,
          75,
          87,
          63,
          70,
          81,
          11,
          95
         ],
         "y": [
          3270.9178963421236,
          3408.814587816324,
          3366.9700745413943,
          3378.382214525466,
          3262.3587913540696,
          3402.157506158949,
          3373.6271561987696,
          3414.5206578083603,
          3440.1979727725216,
          3223.3673130751577,
          3400.2554828282705,
          3342.243771242572,
          3381.235249521484,
          3356.508946222662,
          3377.4312028601266,
          3256.652721362034,
          3225.2693364058364,
          3266.162838015427,
          3336.5377012505364,
          3272.819919672802,
          3283.2810479915347,
          3209.102138095068,
          3249.0446280393194,
          3271.868908007463,
          3316.5664562784104,
          3216.710231417783,
          3392.647389505556,
          3242.387546381944,
          3319.4194912744288,
          3380.284237856145,
          3250.946651369998,
          3294.693187975606,
          3423.079762796414,
          3442.0999961032003,
          3258.5547446927126,
          3428.7858327884496,
          3382.1862611868232,
          3321.321514605107,
          3429.736844453789,
          3323.2235379357858,
          3269.015873011445,
          3334.6356779198577,
          3230.975406397872,
          3325.1255612664645,
          3427.8348211231105,
          3220.51427807914,
          3257.603733027373,
          3366.019062876055,
          3375.5291795294484,
          3351.7538878959654,
          3261.4077796887304,
          3370.7741212027518,
          3305.154316294339,
          3281.379024660856,
          3345.09680623859,
          3422.1287511310748,
          3425.9327977924318,
          3233.8284413938904,
          3371.725132868091,
          3303.2522929636602,
          3297.5462229716245,
          3328.929607927822,
          3230.024394732533,
          3228.1223714018543,
          3430.6878561191284,
          3235.7304647245687,
          3386.94131951352,
          3332.733654589179,
          3251.8976630353372,
          3286.1340829875526,
          3304.2033046289994,
          3388.8433428441986,
          3426.8838094577713,
          3372.67614453343,
          3213.8571964217645,
          3322.2725262704466,
          3221.465289744479,
          3365.0680512107156,
          3288.0361063182313,
          3421.177739465735,
          3211.0041614257466,
          3404.0595294896275,
          3315.6154446130713,
          3396.451436166913,
          3340.3417479118934,
          3295.6441996409458,
          3263.309803019409,
          3389.7943545095377,
          3331.78264292384,
          3436.3939261111645,
          3252.8486747006764,
          3406.912564485646,
          3232.877429728551,
          3324.1745496011254,
          3289.93812964891,
          3434.491902780486,
          3355.5579345573224,
          3227.171359736515,
          3387.8923311788594,
          3217.661243083122,
          3236.6814763899083,
          3363.1660278800373,
          3411.667622812342,
          3326.0765729318036,
          3401.2064944936096,
          3352.7048995613045,
          3300.3992579676424,
          3224.3183247404972,
          3424.9817861270926,
          3308.958362955696,
          3318.468479609089,
          3208.1511264297287,
          3413.5696461430207,
          3344.145794573251,
          3393.598401170895,
          3275.6729546688202,
          3346.9988295692688,
          3395.500424501574,
          3277.5749779994985,
          3244.289569712623,
          3306.105327959678,
          3383.137272852163,
          3379.3332261908054,
          3409.7655994816637,
          3214.808208087104,
          3431.638867784468,
          3234.7794530592296,
          3302.301281298321,
          3364.1170395453764,
          3267.113849680766,
          3215.759219752443,
          3399.304471162931,
          3308.007351290357,
          3329.880619593161,
          3438.295949441843,
          3309.9093746210356,
          3280.428012995517,
          3339.3907362465543,
          3327.9785962624824,
          3226.2203480711755,
          3276.6239663341594,
          3249.9956397046585,
          3362.2150162146977,
          3264.2608146847483,
          3424.030774461753,
          3357.459957888001,
          3317.51746794375,
          3337.4887129158756,
          3313.7134212823926,
          3287.0850946528917,
          3254.750698031355,
          3433.540891115146,
          3418.3247044697173,
          3341.292759577233,
          3212.9061847564253,
          3312.7624096170534,
          3390.7453661748773,
          3417.373692804378,
          3265.2118263500874,
          3367.921086206734,
          3439.2469611071824,
          3333.684666254518,
          3246.1915930433015,
          3403.1085178242884,
          3338.4397245812147,
          3435.442914445825,
          3279.4770013301772,
          3290.889141314249,
          3268.0648613461058,
          3274.7219430034806,
          3285.1830713222134,
          3218.612254748461,
          3298.4972346369636
         ]
        }
       ],
       "layout": {
        "autosize": true,
        "template": {
         "data": {
          "bar": [
           {
            "error_x": {
             "color": "#2a3f5f"
            },
            "error_y": {
             "color": "#2a3f5f"
            },
            "marker": {
             "line": {
              "color": "#E5ECF6",
              "width": 0.5
             },
             "pattern": {
              "fillmode": "overlay",
              "size": 10,
              "solidity": 0.2
             }
            },
            "type": "bar"
           }
          ],
          "barpolar": [
           {
            "marker": {
             "line": {
              "color": "#E5ECF6",
              "width": 0.5
             },
             "pattern": {
              "fillmode": "overlay",
              "size": 10,
              "solidity": 0.2
             }
            },
            "type": "barpolar"
           }
          ],
          "carpet": [
           {
            "aaxis": {
             "endlinecolor": "#2a3f5f",
             "gridcolor": "white",
             "linecolor": "white",
             "minorgridcolor": "white",
             "startlinecolor": "#2a3f5f"
            },
            "baxis": {
             "endlinecolor": "#2a3f5f",
             "gridcolor": "white",
             "linecolor": "white",
             "minorgridcolor": "white",
             "startlinecolor": "#2a3f5f"
            },
            "type": "carpet"
           }
          ],
          "choropleth": [
           {
            "colorbar": {
             "outlinewidth": 0,
             "ticks": ""
            },
            "type": "choropleth"
           }
          ],
          "contour": [
           {
            "colorbar": {
             "outlinewidth": 0,
             "ticks": ""
            },
            "colorscale": [
             [
              0,
              "#0d0887"
             ],
             [
              0.1111111111111111,
              "#46039f"
             ],
             [
              0.2222222222222222,
              "#7201a8"
             ],
             [
              0.3333333333333333,
              "#9c179e"
             ],
             [
              0.4444444444444444,
              "#bd3786"
             ],
             [
              0.5555555555555556,
              "#d8576b"
             ],
             [
              0.6666666666666666,
              "#ed7953"
             ],
             [
              0.7777777777777778,
              "#fb9f3a"
             ],
             [
              0.8888888888888888,
              "#fdca26"
             ],
             [
              1,
              "#f0f921"
             ]
            ],
            "type": "contour"
           }
          ],
          "contourcarpet": [
           {
            "colorbar": {
             "outlinewidth": 0,
             "ticks": ""
            },
            "type": "contourcarpet"
           }
          ],
          "heatmap": [
           {
            "colorbar": {
             "outlinewidth": 0,
             "ticks": ""
            },
            "colorscale": [
             [
              0,
              "#0d0887"
             ],
             [
              0.1111111111111111,
              "#46039f"
             ],
             [
              0.2222222222222222,
              "#7201a8"
             ],
             [
              0.3333333333333333,
              "#9c179e"
             ],
             [
              0.4444444444444444,
              "#bd3786"
             ],
             [
              0.5555555555555556,
              "#d8576b"
             ],
             [
              0.6666666666666666,
              "#ed7953"
             ],
             [
              0.7777777777777778,
              "#fb9f3a"
             ],
             [
              0.8888888888888888,
              "#fdca26"
             ],
             [
              1,
              "#f0f921"
             ]
            ],
            "type": "heatmap"
           }
          ],
          "heatmapgl": [
           {
            "colorbar": {
             "outlinewidth": 0,
             "ticks": ""
            },
            "colorscale": [
             [
              0,
              "#0d0887"
             ],
             [
              0.1111111111111111,
              "#46039f"
             ],
             [
              0.2222222222222222,
              "#7201a8"
             ],
             [
              0.3333333333333333,
              "#9c179e"
             ],
             [
              0.4444444444444444,
              "#bd3786"
             ],
             [
              0.5555555555555556,
              "#d8576b"
             ],
             [
              0.6666666666666666,
              "#ed7953"
             ],
             [
              0.7777777777777778,
              "#fb9f3a"
             ],
             [
              0.8888888888888888,
              "#fdca26"
             ],
             [
              1,
              "#f0f921"
             ]
            ],
            "type": "heatmapgl"
           }
          ],
          "histogram": [
           {
            "marker": {
             "pattern": {
              "fillmode": "overlay",
              "size": 10,
              "solidity": 0.2
             }
            },
            "type": "histogram"
           }
          ],
          "histogram2d": [
           {
            "colorbar": {
             "outlinewidth": 0,
             "ticks": ""
            },
            "colorscale": [
             [
              0,
              "#0d0887"
             ],
             [
              0.1111111111111111,
              "#46039f"
             ],
             [
              0.2222222222222222,
              "#7201a8"
             ],
             [
              0.3333333333333333,
              "#9c179e"
             ],
             [
              0.4444444444444444,
              "#bd3786"
             ],
             [
              0.5555555555555556,
              "#d8576b"
             ],
             [
              0.6666666666666666,
              "#ed7953"
             ],
             [
              0.7777777777777778,
              "#fb9f3a"
             ],
             [
              0.8888888888888888,
              "#fdca26"
             ],
             [
              1,
              "#f0f921"
             ]
            ],
            "type": "histogram2d"
           }
          ],
          "histogram2dcontour": [
           {
            "colorbar": {
             "outlinewidth": 0,
             "ticks": ""
            },
            "colorscale": [
             [
              0,
              "#0d0887"
             ],
             [
              0.1111111111111111,
              "#46039f"
             ],
             [
              0.2222222222222222,
              "#7201a8"
             ],
             [
              0.3333333333333333,
              "#9c179e"
             ],
             [
              0.4444444444444444,
              "#bd3786"
             ],
             [
              0.5555555555555556,
              "#d8576b"
             ],
             [
              0.6666666666666666,
              "#ed7953"
             ],
             [
              0.7777777777777778,
              "#fb9f3a"
             ],
             [
              0.8888888888888888,
              "#fdca26"
             ],
             [
              1,
              "#f0f921"
             ]
            ],
            "type": "histogram2dcontour"
           }
          ],
          "mesh3d": [
           {
            "colorbar": {
             "outlinewidth": 0,
             "ticks": ""
            },
            "type": "mesh3d"
           }
          ],
          "parcoords": [
           {
            "line": {
             "colorbar": {
              "outlinewidth": 0,
              "ticks": ""
             }
            },
            "type": "parcoords"
           }
          ],
          "pie": [
           {
            "automargin": true,
            "type": "pie"
           }
          ],
          "scatter": [
           {
            "fillpattern": {
             "fillmode": "overlay",
             "size": 10,
             "solidity": 0.2
            },
            "type": "scatter"
           }
          ],
          "scatter3d": [
           {
            "line": {
             "colorbar": {
              "outlinewidth": 0,
              "ticks": ""
             }
            },
            "marker": {
             "colorbar": {
              "outlinewidth": 0,
              "ticks": ""
             }
            },
            "type": "scatter3d"
           }
          ],
          "scattercarpet": [
           {
            "marker": {
             "colorbar": {
              "outlinewidth": 0,
              "ticks": ""
             }
            },
            "type": "scattercarpet"
           }
          ],
          "scattergeo": [
           {
            "marker": {
             "colorbar": {
              "outlinewidth": 0,
              "ticks": ""
             }
            },
            "type": "scattergeo"
           }
          ],
          "scattergl": [
           {
            "marker": {
             "colorbar": {
              "outlinewidth": 0,
              "ticks": ""
             }
            },
            "type": "scattergl"
           }
          ],
          "scattermapbox": [
           {
            "marker": {
             "colorbar": {
              "outlinewidth": 0,
              "ticks": ""
             }
            },
            "type": "scattermapbox"
           }
          ],
          "scatterpolar": [
           {
            "marker": {
             "colorbar": {
              "outlinewidth": 0,
              "ticks": ""
             }
            },
            "type": "scatterpolar"
           }
          ],
          "scatterpolargl": [
           {
            "marker": {
             "colorbar": {
              "outlinewidth": 0,
              "ticks": ""
             }
            },
            "type": "scatterpolargl"
           }
          ],
          "scatterternary": [
           {
            "marker": {
             "colorbar": {
              "outlinewidth": 0,
              "ticks": ""
             }
            },
            "type": "scatterternary"
           }
          ],
          "surface": [
           {
            "colorbar": {
             "outlinewidth": 0,
             "ticks": ""
            },
            "colorscale": [
             [
              0,
              "#0d0887"
             ],
             [
              0.1111111111111111,
              "#46039f"
             ],
             [
              0.2222222222222222,
              "#7201a8"
             ],
             [
              0.3333333333333333,
              "#9c179e"
             ],
             [
              0.4444444444444444,
              "#bd3786"
             ],
             [
              0.5555555555555556,
              "#d8576b"
             ],
             [
              0.6666666666666666,
              "#ed7953"
             ],
             [
              0.7777777777777778,
              "#fb9f3a"
             ],
             [
              0.8888888888888888,
              "#fdca26"
             ],
             [
              1,
              "#f0f921"
             ]
            ],
            "type": "surface"
           }
          ],
          "table": [
           {
            "cells": {
             "fill": {
              "color": "#EBF0F8"
             },
             "line": {
              "color": "white"
             }
            },
            "header": {
             "fill": {
              "color": "#C8D4E3"
             },
             "line": {
              "color": "white"
             }
            },
            "type": "table"
           }
          ]
         },
         "layout": {
          "annotationdefaults": {
           "arrowcolor": "#2a3f5f",
           "arrowhead": 0,
           "arrowwidth": 1
          },
          "autotypenumbers": "strict",
          "coloraxis": {
           "colorbar": {
            "outlinewidth": 0,
            "ticks": ""
           }
          },
          "colorscale": {
           "diverging": [
            [
             0,
             "#8e0152"
            ],
            [
             0.1,
             "#c51b7d"
            ],
            [
             0.2,
             "#de77ae"
            ],
            [
             0.3,
             "#f1b6da"
            ],
            [
             0.4,
             "#fde0ef"
            ],
            [
             0.5,
             "#f7f7f7"
            ],
            [
             0.6,
             "#e6f5d0"
            ],
            [
             0.7,
             "#b8e186"
            ],
            [
             0.8,
             "#7fbc41"
            ],
            [
             0.9,
             "#4d9221"
            ],
            [
             1,
             "#276419"
            ]
           ],
           "sequential": [
            [
             0,
             "#0d0887"
            ],
            [
             0.1111111111111111,
             "#46039f"
            ],
            [
             0.2222222222222222,
             "#7201a8"
            ],
            [
             0.3333333333333333,
             "#9c179e"
            ],
            [
             0.4444444444444444,
             "#bd3786"
            ],
            [
             0.5555555555555556,
             "#d8576b"
            ],
            [
             0.6666666666666666,
             "#ed7953"
            ],
            [
             0.7777777777777778,
             "#fb9f3a"
            ],
            [
             0.8888888888888888,
             "#fdca26"
            ],
            [
             1,
             "#f0f921"
            ]
           ],
           "sequentialminus": [
            [
             0,
             "#0d0887"
            ],
            [
             0.1111111111111111,
             "#46039f"
            ],
            [
             0.2222222222222222,
             "#7201a8"
            ],
            [
             0.3333333333333333,
             "#9c179e"
            ],
            [
             0.4444444444444444,
             "#bd3786"
            ],
            [
             0.5555555555555556,
             "#d8576b"
            ],
            [
             0.6666666666666666,
             "#ed7953"
            ],
            [
             0.7777777777777778,
             "#fb9f3a"
            ],
            [
             0.8888888888888888,
             "#fdca26"
            ],
            [
             1,
             "#f0f921"
            ]
           ]
          },
          "colorway": [
           "#636efa",
           "#EF553B",
           "#00cc96",
           "#ab63fa",
           "#FFA15A",
           "#19d3f3",
           "#FF6692",
           "#B6E880",
           "#FF97FF",
           "#FECB52"
          ],
          "font": {
           "color": "#2a3f5f"
          },
          "geo": {
           "bgcolor": "white",
           "lakecolor": "white",
           "landcolor": "#E5ECF6",
           "showlakes": true,
           "showland": true,
           "subunitcolor": "white"
          },
          "hoverlabel": {
           "align": "left"
          },
          "hovermode": "closest",
          "mapbox": {
           "style": "light"
          },
          "paper_bgcolor": "white",
          "plot_bgcolor": "#E5ECF6",
          "polar": {
           "angularaxis": {
            "gridcolor": "white",
            "linecolor": "white",
            "ticks": ""
           },
           "bgcolor": "#E5ECF6",
           "radialaxis": {
            "gridcolor": "white",
            "linecolor": "white",
            "ticks": ""
           }
          },
          "scene": {
           "xaxis": {
            "backgroundcolor": "#E5ECF6",
            "gridcolor": "white",
            "gridwidth": 2,
            "linecolor": "white",
            "showbackground": true,
            "ticks": "",
            "zerolinecolor": "white"
           },
           "yaxis": {
            "backgroundcolor": "#E5ECF6",
            "gridcolor": "white",
            "gridwidth": 2,
            "linecolor": "white",
            "showbackground": true,
            "ticks": "",
            "zerolinecolor": "white"
           },
           "zaxis": {
            "backgroundcolor": "#E5ECF6",
            "gridcolor": "white",
            "gridwidth": 2,
            "linecolor": "white",
            "showbackground": true,
            "ticks": "",
            "zerolinecolor": "white"
           }
          },
          "shapedefaults": {
           "line": {
            "color": "#2a3f5f"
           }
          },
          "ternary": {
           "aaxis": {
            "gridcolor": "white",
            "linecolor": "white",
            "ticks": ""
           },
           "baxis": {
            "gridcolor": "white",
            "linecolor": "white",
            "ticks": ""
           },
           "bgcolor": "#E5ECF6",
           "caxis": {
            "gridcolor": "white",
            "linecolor": "white",
            "ticks": ""
           }
          },
          "title": {
           "x": 0.05
          },
          "xaxis": {
           "automargin": true,
           "gridcolor": "white",
           "linecolor": "white",
           "ticks": "",
           "title": {
            "standoff": 15
           },
           "zerolinecolor": "white",
           "zerolinewidth": 2
          },
          "yaxis": {
           "automargin": true,
           "gridcolor": "white",
           "linecolor": "white",
           "ticks": "",
           "title": {
            "standoff": 15
           },
           "zerolinecolor": "white",
           "zerolinewidth": 2
          }
         }
        },
        "title": {
         "text": "Stock Prices "
        },
        "xaxis": {
         "autorange": true,
         "range": [
          -16.199406968124535,
          262.19940696812455
         ],
         "title": {
          "font": {
           "color": "#7f7f7f",
           "family": "Courier New, monospace",
           "size": 18
          },
          "text": "Day"
         },
         "type": "linear"
        },
        "yaxis": {
         "autorange": true,
         "range": [
          3024.0090414991655,
          3666.9409096727095
         ],
         "title": {
          "font": {
           "color": "#7f7f7f",
           "family": "Courier New, monospace",
           "size": 18
          },
          "text": "Price"
         },
         "type": "linear"
        }
       }
      },
      "image/png": "[encoded data removed]",
      "text/html": [
       "<div>                            <div id=\"fcb132fd-79c9-4abe-b12e-416effb234de\" class=\"plotly-graph-div\" style=\"height:525px; width:100%;\"></div>            <script type=\"text/javascript\">                require([\"plotly\"], function(Plotly) {                    window.PLOTLYENV=window.PLOTLYENV || {};                                    if (document.getElementById(\"fcb132fd-79c9-4abe-b12e-416effb234de\")) {                    Plotly.newPlot(                        \"fcb132fd-79c9-4abe-b12e-416effb234de\",                        [{\"mode\":\"markers\",\"name\":\"Actual\",\"x\":[66,211,167,179,57,204,174,217,244,16,202,141,182,156,178,51,18,61,135,68,79,1,43,67,114,9,194,36,117,181,45,91,226,246,53,232,183,119,233,121,64,133,24,123,231,13,52,166,176,151,56,171,102,77,144,225,229,27,172,100,94,127,23,21,234,29,188,131,46,82,101,190,230,173,6,120,14,165,84,224,3,206,113,198,139,92,58,191,130,240,47,209,26,122,86,238,155,20,189,10,30,163,214,124,203,152,97,17,228,106,116,0,216,143,195,71,146,197,73,38,103,184,180,212,7,235,28,99,164,62,8,201,105,128,242,107,76,138,126,19,72,44,162,59,227,157,115,136,111,83,49,237,221,140,5,110,192,220,60,168,243,132,40,205,137,239,75,87,63,70,81,11,95],\"y\":[3334.35009765625,3458.39990234375,3243.699951171875,3302.25,3256.699951171875,3443.550048828125,3238.5,3387.75,3537.75,3241.699951171875,3440.64990234375,3250.60009765625,3319.949951171875,3320.35009765625,3197.35009765625,3259.699951171875,3217.39990234375,3311.10009765625,3187.949951171875,3334.050048828125,3408.35009765625,3069.550048828125,3286.449951171875,3374.550048828125,3124.64990234375,3137.39990234375,3368.300048828125,3475.64990234375,3115.89990234375,3308.85009765625,3365.35009765625,3501.14990234375,3429.89990234375,3621.39990234375,3252.89990234375,3560.050048828125,3322.89990234375,3205.89990234375,3598.300048828125,3239.800048828125,3286.39990234375,3176.0,3332.60009765625,3263.39990234375,3567.85009765625,3163.25,3228.35009765625,3246.89990234375,3189.64990234375,3298.699951171875,3268.75,3210.39990234375,3371.85009765625,3433.64990234375,3282.14990234375,3429.35009765625,3480.64990234375,3343.449951171875,3227.699951171875,3321.449951171875,3401.550048828125,3139.5,3335.5,3205.64990234375,3606.14990234375,3314.949951171875,3340.550048828125,3160.85009765625,3305.10009765625,3459.949951171875,3342.14990234375,3491.699951171875,3580.800048828125,3258.199951171875,3144.699951171875,3200.0,3193.14990234375,3209.300048828125,3520.10009765625,3418.5,3103.300048828125,3470.60009765625,3130.800048828125,3396.89990234375,3220.699951171875,3487.300048828125,3261.449951171875,3496.85009765625,3104.800048828125,3589.300048828125,3240.25,3448.800048828125,3349.0,3220.699951171875,3537.550048828125,3577.14990234375,3328.89990234375,3216.050048828125,3514.64990234375,3161.699951171875,3308.300048828125,3274.89990234375,3401.64990234375,3213.800048828125,3399.949951171875,3297.050048828125,3331.85009765625,3206.75,3441.89990234375,3281.949951171875,3122.300048828125,3118.550048828125,3398.25,3286.800048828125,3394.75,3373.10009765625,3255.050048828125,3388.300048828125,3414.89990234375,3425.89990234375,3390.39990234375,3329.25,3272.300048828125,3435.75,3121.85009765625,3606.050048828125,3283.5,3385.699951171875,3236.449951171875,3211.550048828125,3157.300048828125,3452.050048828125,3331.0,3130.75,3528.60009765625,3214.949951171875,3411.050048828125,3179.89990234375,3188.85009765625,3233.699951171875,3363.10009765625,3332.10009765625,3232.300048828125,3311.35009765625,3455.25,3316.199951171875,3120.5,3219.25,3143.300048828125,3472.550048828125,3243.949951171875,3603.64990234375,3390.949951171875,3230.699951171875,3111.75,3179.300048828125,3470.050048828125,3376.14990234375,3314.64990234375,3251.050048828125,3513.85009765625,3174.800048828125,3380.60009765625,3484.050048828125,3219.39990234375,3585.699951171875,3429.75,3482.39990234375,3319.949951171875,3390.0,3482.300048828125,3162.10009765625,3413.800048828125],\"type\":\"scatter\"},{\"mode\":\"lines\",\"name\":\"predicted\",\"x\":[66,211,167,179,57,204,174,217,244,16,202,141,182,156,178,51,18,61,135,68,79,1,43,67,114,9,194,36,117,181,45,91,226,246,53,232,183,119,233,121,64,133,24,123,231,13,52,166,176,151,56,171,102,77,144,225,229,27,172,100,94,127,23,21,234,29,188,131,46,82,101,190,230,173,6,120,14,165,84,224,3,206,113,198,139,92,58,191,130,240,47,209,26,122,86,238,155,20,189,10,30,163,214,124,203,152,97,17,228,106,116,0,216,143,195,71,146,197,73,38,103,184,180,212,7,235,28,99,164,62,8,201,105,128,242,107,76,138,126,19,72,44,162,59,227,157,115,136,111,83,49,237,221,140,5,110,192,220,60,168,243,132,40,205,137,239,75,87,63,70,81,11,95],\"y\":[3270.9178963421236,3408.814587816324,3366.9700745413943,3378.382214525466,3262.3587913540696,3402.157506158949,3373.6271561987696,3414.5206578083603,3440.1979727725216,3223.3673130751577,3400.2554828282705,3342.243771242572,3381.235249521484,3356.508946222662,3377.4312028601266,3256.652721362034,3225.2693364058364,3266.162838015427,3336.5377012505364,3272.819919672802,3283.2810479915347,3209.102138095068,3249.0446280393194,3271.868908007463,3316.5664562784104,3216.710231417783,3392.647389505556,3242.387546381944,3319.4194912744288,3380.284237856145,3250.946651369998,3294.693187975606,3423.079762796414,3442.0999961032003,3258.5547446927126,3428.7858327884496,3382.1862611868232,3321.321514605107,3429.736844453789,3323.2235379357858,3269.015873011445,3334.6356779198577,3230.975406397872,3325.1255612664645,3427.8348211231105,3220.51427807914,3257.603733027373,3366.019062876055,3375.5291795294484,3351.7538878959654,3261.4077796887304,3370.7741212027518,3305.154316294339,3281.379024660856,3345.09680623859,3422.1287511310748,3425.9327977924318,3233.8284413938904,3371.725132868091,3303.2522929636602,3297.5462229716245,3328.929607927822,3230.024394732533,3228.1223714018543,3430.6878561191284,3235.7304647245687,3386.94131951352,3332.733654589179,3251.8976630353372,3286.1340829875526,3304.2033046289994,3388.8433428441986,3426.8838094577713,3372.67614453343,3213.8571964217645,3322.2725262704466,3221.465289744479,3365.0680512107156,3288.0361063182313,3421.177739465735,3211.0041614257466,3404.0595294896275,3315.6154446130713,3396.451436166913,3340.3417479118934,3295.6441996409458,3263.309803019409,3389.7943545095377,3331.78264292384,3436.3939261111645,3252.8486747006764,3406.912564485646,3232.877429728551,3324.1745496011254,3289.93812964891,3434.491902780486,3355.5579345573224,3227.171359736515,3387.8923311788594,3217.661243083122,3236.6814763899083,3363.1660278800373,3411.667622812342,3326.0765729318036,3401.2064944936096,3352.7048995613045,3300.3992579676424,3224.3183247404972,3424.9817861270926,3308.958362955696,3318.468479609089,3208.1511264297287,3413.5696461430207,3344.145794573251,3393.598401170895,3275.6729546688202,3346.9988295692688,3395.500424501574,3277.5749779994985,3244.289569712623,3306.105327959678,3383.137272852163,3379.3332261908054,3409.7655994816637,3214.808208087104,3431.638867784468,3234.7794530592296,3302.301281298321,3364.1170395453764,3267.113849680766,3215.759219752443,3399.304471162931,3308.007351290357,3329.880619593161,3438.295949441843,3309.9093746210356,3280.428012995517,3339.3907362465543,3327.9785962624824,3226.2203480711755,3276.6239663341594,3249.9956397046585,3362.2150162146977,3264.2608146847483,3424.030774461753,3357.459957888001,3317.51746794375,3337.4887129158756,3313.7134212823926,3287.0850946528917,3254.750698031355,3433.540891115146,3418.3247044697173,3341.292759577233,3212.9061847564253,3312.7624096170534,3390.7453661748773,3417.373692804378,3265.2118263500874,3367.921086206734,3439.2469611071824,3333.684666254518,3246.1915930433015,3403.1085178242884,3338.4397245812147,3435.442914445825,3279.4770013301772,3290.889141314249,3268.0648613461058,3274.7219430034806,3285.1830713222134,3218.612254748461,3298.4972346369636],\"type\":\"scatter\"}],                        {\"template\":{\"data\":{\"barpolar\":[{\"marker\":{\"line\":{\"color\":\"#E5ECF6\",\"width\":0.5},\"pattern\":{\"fillmode\":\"overlay\",\"size\":10,\"solidity\":0.2}},\"type\":\"barpolar\"}],\"bar\":[{\"error_x\":{\"color\":\"#2a3f5f\"},\"error_y\":{\"color\":\"#2a3f5f\"},\"marker\":{\"line\":{\"color\":\"#E5ECF6\",\"width\":0.5},\"pattern\":{\"fillmode\":\"overlay\",\"size\":10,\"solidity\":0.2}},\"type\":\"bar\"}],\"carpet\":[{\"aaxis\":{\"endlinecolor\":\"#2a3f5f\",\"gridcolor\":\"white\",\"linecolor\":\"white\",\"minorgridcolor\":\"white\",\"startlinecolor\":\"#2a3f5f\"},\"baxis\":{\"endlinecolor\":\"#2a3f5f\",\"gridcolor\":\"white\",\"linecolor\":\"white\",\"minorgridcolor\":\"white\",\"startlinecolor\":\"#2a3f5f\"},\"type\":\"carpet\"}],\"choropleth\":[{\"colorbar\":{\"outlinewidth\":0,\"ticks\":\"\"},\"type\":\"choropleth\"}],\"contourcarpet\":[{\"colorbar\":{\"outlinewidth\":0,\"ticks\":\"\"},\"type\":\"contourcarpet\"}],\"contour\":[{\"colorbar\":{\"outlinewidth\":0,\"ticks\":\"\"},\"colorscale\":[[0.0,\"#0d0887\"],[0.1111111111111111,\"#46039f\"],[0.2222222222222222,\"#7201a8\"],[0.3333333333333333,\"#9c179e\"],[0.4444444444444444,\"#bd3786\"],[0.5555555555555556,\"#d8576b\"],[0.6666666666666666,\"#ed7953\"],[0.7777777777777778,\"#fb9f3a\"],[0.8888888888888888,\"#fdca26\"],[1.0,\"#f0f921\"]],\"type\":\"contour\"}],\"heatmapgl\":[{\"colorbar\":{\"outlinewidth\":0,\"ticks\":\"\"},\"colorscale\":[[0.0,\"#0d0887\"],[0.1111111111111111,\"#46039f\"],[0.2222222222222222,\"#7201a8\"],[0.3333333333333333,\"#9c179e\"],[0.4444444444444444,\"#bd3786\"],[0.5555555555555556,\"#d8576b\"],[0.6666666666666666,\"#ed7953\"],[0.7777777777777778,\"#fb9f3a\"],[0.8888888888888888,\"#fdca26\"],[1.0,\"#f0f921\"]],\"type\":\"heatmapgl\"}],\"heatmap\":[{\"colorbar\":{\"outlinewidth\":0,\"ticks\":\"\"},\"colorscale\":[[0.0,\"#0d0887\"],[0.1111111111111111,\"#46039f\"],[0.2222222222222222,\"#7201a8\"],[0.3333333333333333,\"#9c179e\"],[0.4444444444444444,\"#bd3786\"],[0.5555555555555556,\"#d8576b\"],[0.6666666666666666,\"#ed7953\"],[0.7777777777777778,\"#fb9f3a\"],[0.8888888888888888,\"#fdca26\"],[1.0,\"#f0f921\"]],\"type\":\"heatmap\"}],\"histogram2dcontour\":[{\"colorbar\":{\"outlinewidth\":0,\"ticks\":\"\"},\"colorscale\":[[0.0,\"#0d0887\"],[0.1111111111111111,\"#46039f\"],[0.2222222222222222,\"#7201a8\"],[0.3333333333333333,\"#9c179e\"],[0.4444444444444444,\"#bd3786\"],[0.5555555555555556,\"#d8576b\"],[0.6666666666666666,\"#ed7953\"],[0.7777777777777778,\"#fb9f3a\"],[0.8888888888888888,\"#fdca26\"],[1.0,\"#f0f921\"]],\"type\":\"histogram2dcontour\"}],\"histogram2d\":[{\"colorbar\":{\"outlinewidth\":0,\"ticks\":\"\"},\"colorscale\":[[0.0,\"#0d0887\"],[0.1111111111111111,\"#46039f\"],[0.2222222222222222,\"#7201a8\"],[0.3333333333333333,\"#9c179e\"],[0.4444444444444444,\"#bd3786\"],[0.5555555555555556,\"#d8576b\"],[0.6666666666666666,\"#ed7953\"],[0.7777777777777778,\"#fb9f3a\"],[0.8888888888888888,\"#fdca26\"],[1.0,\"#f0f921\"]],\"type\":\"histogram2d\"}],\"histogram\":[{\"marker\":{\"pattern\":{\"fillmode\":\"overlay\",\"size\":10,\"solidity\":0.2}},\"type\":\"histogram\"}],\"mesh3d\":[{\"colorbar\":{\"outlinewidth\":0,\"ticks\":\"\"},\"type\":\"mesh3d\"}],\"parcoords\":[{\"line\":{\"colorbar\":{\"outlinewidth\":0,\"ticks\":\"\"}},\"type\":\"parcoords\"}],\"pie\":[{\"automargin\":true,\"type\":\"pie\"}],\"scatter3d\":[{\"line\":{\"colorbar\":{\"outlinewidth\":0,\"ticks\":\"\"}},\"marker\":{\"colorbar\":{\"outlinewidth\":0,\"ticks\":\"\"}},\"type\":\"scatter3d\"}],\"scattercarpet\":[{\"marker\":{\"colorbar\":{\"outlinewidth\":0,\"ticks\":\"\"}},\"type\":\"scattercarpet\"}],\"scattergeo\":[{\"marker\":{\"colorbar\":{\"outlinewidth\":0,\"ticks\":\"\"}},\"type\":\"scattergeo\"}],\"scattergl\":[{\"marker\":{\"colorbar\":{\"outlinewidth\":0,\"ticks\":\"\"}},\"type\":\"scattergl\"}],\"scattermapbox\":[{\"marker\":{\"colorbar\":{\"outlinewidth\":0,\"ticks\":\"\"}},\"type\":\"scattermapbox\"}],\"scatterpolargl\":[{\"marker\":{\"colorbar\":{\"outlinewidth\":0,\"ticks\":\"\"}},\"type\":\"scatterpolargl\"}],\"scatterpolar\":[{\"marker\":{\"colorbar\":{\"outlinewidth\":0,\"ticks\":\"\"}},\"type\":\"scatterpolar\"}],\"scatter\":[{\"fillpattern\":{\"fillmode\":\"overlay\",\"size\":10,\"solidity\":0.2},\"type\":\"scatter\"}],\"scatterternary\":[{\"marker\":{\"colorbar\":{\"outlinewidth\":0,\"ticks\":\"\"}},\"type\":\"scatterternary\"}],\"surface\":[{\"colorbar\":{\"outlinewidth\":0,\"ticks\":\"\"},\"colorscale\":[[0.0,\"#0d0887\"],[0.1111111111111111,\"#46039f\"],[0.2222222222222222,\"#7201a8\"],[0.3333333333333333,\"#9c179e\"],[0.4444444444444444,\"#bd3786\"],[0.5555555555555556,\"#d8576b\"],[0.6666666666666666,\"#ed7953\"],[0.7777777777777778,\"#fb9f3a\"],[0.8888888888888888,\"#fdca26\"],[1.0,\"#f0f921\"]],\"type\":\"surface\"}],\"table\":[{\"cells\":{\"fill\":{\"color\":\"#EBF0F8\"},\"line\":{\"color\":\"white\"}},\"header\":{\"fill\":{\"color\":\"#C8D4E3\"},\"line\":{\"color\":\"white\"}},\"type\":\"table\"}]},\"layout\":{\"annotationdefaults\":{\"arrowcolor\":\"#2a3f5f\",\"arrowhead\":0,\"arrowwidth\":1},\"autotypenumbers\":\"strict\",\"coloraxis\":{\"colorbar\":{\"outlinewidth\":0,\"ticks\":\"\"}},\"colorscale\":{\"diverging\":[[0,\"#8e0152\"],[0.1,\"#c51b7d\"],[0.2,\"#de77ae\"],[0.3,\"#f1b6da\"],[0.4,\"#fde0ef\"],[0.5,\"#f7f7f7\"],[0.6,\"#e6f5d0\"],[0.7,\"#b8e186\"],[0.8,\"#7fbc41\"],[0.9,\"#4d9221\"],[1,\"#276419\"]],\"sequential\":[[0.0,\"#0d0887\"],[0.1111111111111111,\"#46039f\"],[0.2222222222222222,\"#7201a8\"],[0.3333333333333333,\"#9c179e\"],[0.4444444444444444,\"#bd3786\"],[0.5555555555555556,\"#d8576b\"],[0.6666666666666666,\"#ed7953\"],[0.7777777777777778,\"#fb9f3a\"],[0.8888888888888888,\"#fdca26\"],[1.0,\"#f0f921\"]],\"sequentialminus\":[[0.0,\"#0d0887\"],[0.1111111111111111,\"#46039f\"],[0.2222222222222222,\"#7201a8\"],[0.3333333333333333,\"#9c179e\"],[0.4444444444444444,\"#bd3786\"],[0.5555555555555556,\"#d8576b\"],[0.6666666666666666,\"#ed7953\"],[0.7777777777777778,\"#fb9f3a\"],[0.8888888888888888,\"#fdca26\"],[1.0,\"#f0f921\"]]},\"colorway\":[\"#636efa\",\"#EF553B\",\"#00cc96\",\"#ab63fa\",\"#FFA15A\",\"#19d3f3\",\"#FF6692\",\"#B6E880\",\"#FF97FF\",\"#FECB52\"],\"font\":{\"color\":\"#2a3f5f\"},\"geo\":{\"bgcolor\":\"white\",\"lakecolor\":\"white\",\"landcolor\":\"#E5ECF6\",\"showlakes\":true,\"showland\":true,\"subunitcolor\":\"white\"},\"hoverlabel\":{\"align\":\"left\"},\"hovermode\":\"closest\",\"mapbox\":{\"style\":\"light\"},\"paper_bgcolor\":\"white\",\"plot_bgcolor\":\"#E5ECF6\",\"polar\":{\"angularaxis\":{\"gridcolor\":\"white\",\"linecolor\":\"white\",\"ticks\":\"\"},\"bgcolor\":\"#E5ECF6\",\"radialaxis\":{\"gridcolor\":\"white\",\"linecolor\":\"white\",\"ticks\":\"\"}},\"scene\":{\"xaxis\":{\"backgroundcolor\":\"#E5ECF6\",\"gridcolor\":\"white\",\"gridwidth\":2,\"linecolor\":\"white\",\"showbackground\":true,\"ticks\":\"\",\"zerolinecolor\":\"white\"},\"yaxis\":{\"backgroundcolor\":\"#E5ECF6\",\"gridcolor\":\"white\",\"gridwidth\":2,\"linecolor\":\"white\",\"showbackground\":true,\"ticks\":\"\",\"zerolinecolor\":\"white\"},\"zaxis\":{\"backgroundcolor\":\"#E5ECF6\",\"gridcolor\":\"white\",\"gridwidth\":2,\"linecolor\":\"white\",\"showbackground\":true,\"ticks\":\"\",\"zerolinecolor\":\"white\"}},\"shapedefaults\":{\"line\":{\"color\":\"#2a3f5f\"}},\"ternary\":{\"aaxis\":{\"gridcolor\":\"white\",\"linecolor\":\"white\",\"ticks\":\"\"},\"baxis\":{\"gridcolor\":\"white\",\"linecolor\":\"white\",\"ticks\":\"\"},\"bgcolor\":\"#E5ECF6\",\"caxis\":{\"gridcolor\":\"white\",\"linecolor\":\"white\",\"ticks\":\"\"}},\"title\":{\"x\":0.05},\"xaxis\":{\"automargin\":true,\"gridcolor\":\"white\",\"linecolor\":\"white\",\"ticks\":\"\",\"title\":{\"standoff\":15},\"zerolinecolor\":\"white\",\"zerolinewidth\":2},\"yaxis\":{\"automargin\":true,\"gridcolor\":\"white\",\"linecolor\":\"white\",\"ticks\":\"\",\"title\":{\"standoff\":15},\"zerolinecolor\":\"white\",\"zerolinewidth\":2}}},\"title\":{\"text\":\"Stock Prices \"},\"xaxis\":{\"title\":{\"font\":{\"color\":\"#7f7f7f\",\"family\":\"Courier New, monospace\",\"size\":18},\"text\":\"Day\"}},\"yaxis\":{\"title\":{\"font\":{\"color\":\"#7f7f7f\",\"family\":\"Courier New, monospace\",\"size\":18},\"text\":\"Price\"}}},                        {\"responsive\": true}                    ).then(function(){\n",
       "                            \n",
       "var gd = document.getElementById('fcb132fd-79c9-4abe-b12e-416effb234de');\n",
       "var x = new MutationObserver(function (mutations, observer) {{\n",
       "        var display = window.getComputedStyle(gd).display;\n",
       "        if (!display || display === 'none') {{\n",
       "            console.log([gd, 'removed!']);\n",
       "            Plotly.purge(gd);\n",
       "            observer.disconnect();\n",
       "        }}\n",
       "}});\n",
       "\n",
       "// Listen for the removal of the full notebook cells\n",
       "var notebookContainer = gd.closest('#notebook-container');\n",
       "if (notebookContainer) {{\n",
       "    x.observe(notebookContainer, {childList: true});\n",
       "}}\n",
       "\n",
       "// Listen for the clearing of the current output cell\n",
       "var outputEl = gd.closest('.output');\n",
       "if (outputEl) {{\n",
       "    x.observe(outputEl, {childList: true});\n",
       "}}\n",
       "\n",
       "                        })                };                });            </script>        </div>"
      ]
     },
     "metadata": {},
     "output_type": "display_data"
    }
   ],
   "source": [
    "iplot(plot2)"
   ]
  },
  {
   "cell_type": "code",
   "execution_count": 107,
   "id": "52c8b3d5-1190-47fc-97ae-0274656366e5",
   "metadata": {},
   "outputs": [
    {
     "name": "stdout",
     "output_type": "stream",
     "text": [
      "\n",
      "Metric           Train                Test        \n",
      "r2_score  0.27496107471310904\t-0.016536266097046948\n",
      "MSE       12424.493569130987\t15246.777594690777\n",
      "\n"
     ]
    }
   ],
   "source": [
    "#calculate scores for model evaluation\n",
    "scores = f'''\n",
    "{'Metric'.ljust(10)}{'Train'.center(20)}{'Test'.center(20)}\n",
    "{'r2_score'.ljust(10)}{r2_score(Y_train, lm.predict(X_train))}\\t{r2_score(Y_test, lm.predict(X_test))}\n",
    "{'MSE'.ljust(10)}{mse(Y_train, lm.predict(X_train))}\\t{mse(Y_test, lm.predict(X_test))}\n",
    "'''\n",
    "print(scores)"
   ]
  },
  {
   "cell_type": "code",
   "execution_count": null,
   "id": "daa5dfc4-8cdb-445f-b857-a98203436dd0",
   "metadata": {},
   "outputs": [],
   "source": []
  }
 ],
 "metadata": {
  "kernelspec": {
   "display_name": "Python 3 (ipykernel)",
   "language": "python",
   "name": "python3"
  },
  "language_info": {
   "codemirror_mode": {
    "name": "ipython",
    "version": 3
   },
   "file_extension": ".py",
   "mimetype": "text/x-python",
   "name": "python",
   "nbconvert_exporter": "python",
   "pygments_lexer": "ipython3",
   "version": "3.11.1"
  }
 },
 "nbformat": 4,
 "nbformat_minor": 5
}
